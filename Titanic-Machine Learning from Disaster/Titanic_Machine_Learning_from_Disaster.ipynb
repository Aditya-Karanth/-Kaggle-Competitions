{
  "nbformat": 4,
  "nbformat_minor": 0,
  "metadata": {
    "colab": {
      "name": "Titanic: Machine Learning from Disaster.ipynb",
      "provenance": [],
      "collapsed_sections": [
        "UX7TO1cx4EWg",
        "afUgTQJ-bOgT",
        "YmNPz_-t-5YL",
        "NMnYpDNKDDTo",
        "0GsfAHlLDO-p",
        "QOQSpUEhc5Ka",
        "RnqXeiBaeHsi",
        "2hMRUEi5Mt5R",
        "Iby0DJSQP4E4",
        "iI5GOmCVPu_-",
        "pmUylNoRQqEE",
        "VxwEAyAxoUml",
        "VTmBsh2p4yoA",
        "uW83srEf4yoh",
        "rTHGJnhm4yo8",
        "MvfZbgJx87H4"
      ],
      "toc_visible": true
    },
    "kernelspec": {
      "name": "python3",
      "display_name": "Python 3"
    }
  },
  "cells": [
    {
      "cell_type": "markdown",
      "metadata": {
        "id": "NS8nLC1gjjwu",
        "colab_type": "text"
      },
      "source": [
        "<h1> Titanic: Machine Learning from Disaster </h1>\n",
        "\n",
        "---\n",
        "\n",
        "\n",
        "**Problem Statement**: To predict if a passenger survived the sinking of the Titanic or not.\n",
        "\n",
        "**Competition Link**: https://www.kaggle.com/c/titanic\n",
        "\n",
        "&nbsp; \n",
        "\n",
        "&nbsp;\n",
        "\n",
        "\n",
        "**Solution by**: Aditya Karanth.\n",
        "\n",
        "**GitHub Profile**: https://github.com/Aditya-Karanth\n",
        "\n",
        "**Kaggle Profile**: https://www.kaggle.com/adityakaranth\n",
        "\n"
      ]
    },
    {
      "cell_type": "markdown",
      "metadata": {
        "id": "ltc0XIoEG9J3",
        "colab_type": "text"
      },
      "source": [
        "<h3>Project Planning :</h3> \n",
        "\n",
        "  - **Exploratory Data Analysis (EDA) -**\n",
        "    - Understand nature of the data *.info()*, *.describe()*\n",
        "    - Plot Histograms for numeric data\n",
        "    - Plot Value counts for categorical data\n",
        "    \n",
        "  - **Data Preprocessing -**\n",
        "    - **Handling missing data**: \n",
        "      - Obtaining missing data from heatmaps and corr plots. \n",
        "      - Filling missing values using *Linear Regression* and *mean*.\n",
        "      - Dropping columns with higher missing values.\n",
        "\n",
        "    - **Data Cleaning**: \n",
        "      - Removing unwanted columns eg. PassengerId, Name, Ticket.\n",
        "\n",
        "    - **Data Preparation**:\n",
        "      - Converting categorical columns in to numerical columns with *OneHotEncoding*. \n",
        "    \n",
        "    - **Model Selection**:\n",
        "      - Classification using *Logistic Regression* with *GridSearchCV* by obtaining the best parameters\n"
      ]
    },
    {
      "cell_type": "markdown",
      "metadata": {
        "id": "UX7TO1cx4EWg",
        "colab_type": "text"
      },
      "source": [
        "# Imports"
      ]
    },
    {
      "cell_type": "code",
      "metadata": {
        "id": "wdCfD6wCCSma",
        "colab_type": "code",
        "colab": {}
      },
      "source": [
        "import numpy as np\n",
        "import pandas as pd\n",
        "\n",
        "import matplotlib\n",
        "import matplotlib.pyplot as plt\n",
        "import seaborn as sns\n",
        "%matplotlib inline\n",
        "sns.set_style('whitegrid')\n",
        "matplotlib.rcParams['figure.figsize'] = (10,6)\n",
        "\n",
        "from sklearn.model_selection import train_test_split, GridSearchCV\n",
        "from sklearn.linear_model import LinearRegression, LogisticRegression\n",
        "from sklearn import metrics\n"
      ],
      "execution_count": null,
      "outputs": []
    },
    {
      "cell_type": "code",
      "metadata": {
        "id": "H9gNBSvjM-8Z",
        "colab_type": "code",
        "colab": {}
      },
      "source": [
        "df_train = pd.read_csv('train.csv')\n",
        "df_test = pd.read_csv('test.csv')\n",
        "df = pd.read_csv('gender_submission.csv')"
      ],
      "execution_count": null,
      "outputs": []
    },
    {
      "cell_type": "markdown",
      "metadata": {
        "id": "afUgTQJ-bOgT",
        "colab_type": "text"
      },
      "source": [
        "# Training Data (*df_train*)\n",
        "---\n"
      ]
    },
    {
      "cell_type": "markdown",
      "metadata": {
        "id": "YmNPz_-t-5YL",
        "colab_type": "text"
      },
      "source": [
        "## Exploring Data\n",
        "\n"
      ]
    },
    {
      "cell_type": "code",
      "metadata": {
        "id": "Ns_9_7Ur9rTK",
        "colab_type": "code",
        "colab": {
          "base_uri": "https://localhost:8080/",
          "height": 340
        },
        "outputId": "7ca65f88-0fd7-4b4c-83a5-94b9a69207c3"
      },
      "source": [
        "df_train.info()"
      ],
      "execution_count": null,
      "outputs": [
        {
          "output_type": "stream",
          "text": [
            "<class 'pandas.core.frame.DataFrame'>\n",
            "RangeIndex: 891 entries, 0 to 890\n",
            "Data columns (total 12 columns):\n",
            " #   Column       Non-Null Count  Dtype  \n",
            "---  ------       --------------  -----  \n",
            " 0   PassengerId  891 non-null    int64  \n",
            " 1   Survived     891 non-null    int64  \n",
            " 2   Pclass       891 non-null    int64  \n",
            " 3   Name         891 non-null    object \n",
            " 4   Sex          891 non-null    object \n",
            " 5   Age          714 non-null    float64\n",
            " 6   SibSp        891 non-null    int64  \n",
            " 7   Parch        891 non-null    int64  \n",
            " 8   Ticket       891 non-null    object \n",
            " 9   Fare         891 non-null    float64\n",
            " 10  Cabin        204 non-null    object \n",
            " 11  Embarked     889 non-null    object \n",
            "dtypes: float64(2), int64(5), object(5)\n",
            "memory usage: 83.7+ KB\n"
          ],
          "name": "stdout"
        }
      ]
    },
    {
      "cell_type": "code",
      "metadata": {
        "id": "ionE0mW28UC2",
        "colab_type": "code",
        "colab": {
          "base_uri": "https://localhost:8080/",
          "height": 34
        },
        "outputId": "21e29de8-a781-4d6f-a047-c3442e4aabfd"
      },
      "source": [
        "# Get numeric columns\n",
        "print('Numeric cols :',df_train.select_dtypes(include=[np.number]).columns.values)"
      ],
      "execution_count": null,
      "outputs": [
        {
          "output_type": "stream",
          "text": [
            "Numeric cols : ['PassengerId' 'Survived' 'Pclass' 'Age' 'SibSp' 'Parch' 'Fare']\n"
          ],
          "name": "stdout"
        }
      ]
    },
    {
      "cell_type": "code",
      "metadata": {
        "id": "mrwybUQ8SgET",
        "colab_type": "code",
        "colab": {
          "base_uri": "https://localhost:8080/",
          "height": 34
        },
        "outputId": "e83d6168-d6b8-47d9-fcec-4f98dc6db2b7"
      },
      "source": [
        "# Get Non-numeric columns\n",
        "print('Categorical cols :',df_train.select_dtypes(exclude=[np.number]).columns.values)"
      ],
      "execution_count": null,
      "outputs": [
        {
          "output_type": "stream",
          "text": [
            "Categorical cols : ['Name' 'Sex' 'Ticket' 'Cabin' 'Embarked']\n"
          ],
          "name": "stdout"
        }
      ]
    },
    {
      "cell_type": "code",
      "metadata": {
        "id": "VJHz8ZhB4Ufc",
        "colab_type": "code",
        "colab": {
          "base_uri": "https://localhost:8080/",
          "height": 390
        },
        "outputId": "871592e6-0ec7-4e41-a623-4b6f57dc354b"
      },
      "source": [
        "df_train.describe(include='all')"
      ],
      "execution_count": null,
      "outputs": [
        {
          "output_type": "execute_result",
          "data": {
            "text/html": [
              "<div>\n",
              "<style scoped>\n",
              "    .dataframe tbody tr th:only-of-type {\n",
              "        vertical-align: middle;\n",
              "    }\n",
              "\n",
              "    .dataframe tbody tr th {\n",
              "        vertical-align: top;\n",
              "    }\n",
              "\n",
              "    .dataframe thead th {\n",
              "        text-align: right;\n",
              "    }\n",
              "</style>\n",
              "<table border=\"1\" class=\"dataframe\">\n",
              "  <thead>\n",
              "    <tr style=\"text-align: right;\">\n",
              "      <th></th>\n",
              "      <th>PassengerId</th>\n",
              "      <th>Survived</th>\n",
              "      <th>Pclass</th>\n",
              "      <th>Name</th>\n",
              "      <th>Sex</th>\n",
              "      <th>Age</th>\n",
              "      <th>SibSp</th>\n",
              "      <th>Parch</th>\n",
              "      <th>Ticket</th>\n",
              "      <th>Fare</th>\n",
              "      <th>Cabin</th>\n",
              "      <th>Embarked</th>\n",
              "    </tr>\n",
              "  </thead>\n",
              "  <tbody>\n",
              "    <tr>\n",
              "      <th>count</th>\n",
              "      <td>891.000000</td>\n",
              "      <td>891.000000</td>\n",
              "      <td>891.000000</td>\n",
              "      <td>891</td>\n",
              "      <td>891</td>\n",
              "      <td>714.000000</td>\n",
              "      <td>891.000000</td>\n",
              "      <td>891.000000</td>\n",
              "      <td>891</td>\n",
              "      <td>891.000000</td>\n",
              "      <td>204</td>\n",
              "      <td>889</td>\n",
              "    </tr>\n",
              "    <tr>\n",
              "      <th>unique</th>\n",
              "      <td>NaN</td>\n",
              "      <td>NaN</td>\n",
              "      <td>NaN</td>\n",
              "      <td>891</td>\n",
              "      <td>2</td>\n",
              "      <td>NaN</td>\n",
              "      <td>NaN</td>\n",
              "      <td>NaN</td>\n",
              "      <td>681</td>\n",
              "      <td>NaN</td>\n",
              "      <td>147</td>\n",
              "      <td>3</td>\n",
              "    </tr>\n",
              "    <tr>\n",
              "      <th>top</th>\n",
              "      <td>NaN</td>\n",
              "      <td>NaN</td>\n",
              "      <td>NaN</td>\n",
              "      <td>Jenkin, Mr. Stephen Curnow</td>\n",
              "      <td>male</td>\n",
              "      <td>NaN</td>\n",
              "      <td>NaN</td>\n",
              "      <td>NaN</td>\n",
              "      <td>CA. 2343</td>\n",
              "      <td>NaN</td>\n",
              "      <td>C23 C25 C27</td>\n",
              "      <td>S</td>\n",
              "    </tr>\n",
              "    <tr>\n",
              "      <th>freq</th>\n",
              "      <td>NaN</td>\n",
              "      <td>NaN</td>\n",
              "      <td>NaN</td>\n",
              "      <td>1</td>\n",
              "      <td>577</td>\n",
              "      <td>NaN</td>\n",
              "      <td>NaN</td>\n",
              "      <td>NaN</td>\n",
              "      <td>7</td>\n",
              "      <td>NaN</td>\n",
              "      <td>4</td>\n",
              "      <td>644</td>\n",
              "    </tr>\n",
              "    <tr>\n",
              "      <th>mean</th>\n",
              "      <td>446.000000</td>\n",
              "      <td>0.383838</td>\n",
              "      <td>2.308642</td>\n",
              "      <td>NaN</td>\n",
              "      <td>NaN</td>\n",
              "      <td>29.699118</td>\n",
              "      <td>0.523008</td>\n",
              "      <td>0.381594</td>\n",
              "      <td>NaN</td>\n",
              "      <td>32.204208</td>\n",
              "      <td>NaN</td>\n",
              "      <td>NaN</td>\n",
              "    </tr>\n",
              "    <tr>\n",
              "      <th>std</th>\n",
              "      <td>257.353842</td>\n",
              "      <td>0.486592</td>\n",
              "      <td>0.836071</td>\n",
              "      <td>NaN</td>\n",
              "      <td>NaN</td>\n",
              "      <td>14.526497</td>\n",
              "      <td>1.102743</td>\n",
              "      <td>0.806057</td>\n",
              "      <td>NaN</td>\n",
              "      <td>49.693429</td>\n",
              "      <td>NaN</td>\n",
              "      <td>NaN</td>\n",
              "    </tr>\n",
              "    <tr>\n",
              "      <th>min</th>\n",
              "      <td>1.000000</td>\n",
              "      <td>0.000000</td>\n",
              "      <td>1.000000</td>\n",
              "      <td>NaN</td>\n",
              "      <td>NaN</td>\n",
              "      <td>0.420000</td>\n",
              "      <td>0.000000</td>\n",
              "      <td>0.000000</td>\n",
              "      <td>NaN</td>\n",
              "      <td>0.000000</td>\n",
              "      <td>NaN</td>\n",
              "      <td>NaN</td>\n",
              "    </tr>\n",
              "    <tr>\n",
              "      <th>25%</th>\n",
              "      <td>223.500000</td>\n",
              "      <td>0.000000</td>\n",
              "      <td>2.000000</td>\n",
              "      <td>NaN</td>\n",
              "      <td>NaN</td>\n",
              "      <td>20.125000</td>\n",
              "      <td>0.000000</td>\n",
              "      <td>0.000000</td>\n",
              "      <td>NaN</td>\n",
              "      <td>7.910400</td>\n",
              "      <td>NaN</td>\n",
              "      <td>NaN</td>\n",
              "    </tr>\n",
              "    <tr>\n",
              "      <th>50%</th>\n",
              "      <td>446.000000</td>\n",
              "      <td>0.000000</td>\n",
              "      <td>3.000000</td>\n",
              "      <td>NaN</td>\n",
              "      <td>NaN</td>\n",
              "      <td>28.000000</td>\n",
              "      <td>0.000000</td>\n",
              "      <td>0.000000</td>\n",
              "      <td>NaN</td>\n",
              "      <td>14.454200</td>\n",
              "      <td>NaN</td>\n",
              "      <td>NaN</td>\n",
              "    </tr>\n",
              "    <tr>\n",
              "      <th>75%</th>\n",
              "      <td>668.500000</td>\n",
              "      <td>1.000000</td>\n",
              "      <td>3.000000</td>\n",
              "      <td>NaN</td>\n",
              "      <td>NaN</td>\n",
              "      <td>38.000000</td>\n",
              "      <td>1.000000</td>\n",
              "      <td>0.000000</td>\n",
              "      <td>NaN</td>\n",
              "      <td>31.000000</td>\n",
              "      <td>NaN</td>\n",
              "      <td>NaN</td>\n",
              "    </tr>\n",
              "    <tr>\n",
              "      <th>max</th>\n",
              "      <td>891.000000</td>\n",
              "      <td>1.000000</td>\n",
              "      <td>3.000000</td>\n",
              "      <td>NaN</td>\n",
              "      <td>NaN</td>\n",
              "      <td>80.000000</td>\n",
              "      <td>8.000000</td>\n",
              "      <td>6.000000</td>\n",
              "      <td>NaN</td>\n",
              "      <td>512.329200</td>\n",
              "      <td>NaN</td>\n",
              "      <td>NaN</td>\n",
              "    </tr>\n",
              "  </tbody>\n",
              "</table>\n",
              "</div>"
            ],
            "text/plain": [
              "        PassengerId    Survived      Pclass  ...        Fare        Cabin  Embarked\n",
              "count    891.000000  891.000000  891.000000  ...  891.000000          204       889\n",
              "unique          NaN         NaN         NaN  ...         NaN          147         3\n",
              "top             NaN         NaN         NaN  ...         NaN  C23 C25 C27         S\n",
              "freq            NaN         NaN         NaN  ...         NaN            4       644\n",
              "mean     446.000000    0.383838    2.308642  ...   32.204208          NaN       NaN\n",
              "std      257.353842    0.486592    0.836071  ...   49.693429          NaN       NaN\n",
              "min        1.000000    0.000000    1.000000  ...    0.000000          NaN       NaN\n",
              "25%      223.500000    0.000000    2.000000  ...    7.910400          NaN       NaN\n",
              "50%      446.000000    0.000000    3.000000  ...   14.454200          NaN       NaN\n",
              "75%      668.500000    1.000000    3.000000  ...   31.000000          NaN       NaN\n",
              "max      891.000000    1.000000    3.000000  ...  512.329200          NaN       NaN\n",
              "\n",
              "[11 rows x 12 columns]"
            ]
          },
          "metadata": {
            "tags": []
          },
          "execution_count": 233
        }
      ]
    },
    {
      "cell_type": "code",
      "metadata": {
        "id": "VwOolmahNBNu",
        "colab_type": "code",
        "colab": {
          "base_uri": "https://localhost:8080/",
          "height": 442
        },
        "outputId": "6b99adba-3c10-4850-b2fa-99fbec52c644"
      },
      "source": [
        "# Check for missing data\n",
        "sns.heatmap(df_train.isnull(), yticklabels=False, cbar=False, cmap='viridis')"
      ],
      "execution_count": null,
      "outputs": [
        {
          "output_type": "execute_result",
          "data": {
            "text/plain": [
              "<matplotlib.axes._subplots.AxesSubplot at 0x7fe4c6eb2b38>"
            ]
          },
          "metadata": {
            "tags": []
          },
          "execution_count": 234
        },
        {
          "output_type": "display_data",
          "data": {
            "image/png": "[encoded data removed]",
            "text/plain": [
              "<Figure size 720x432 with 1 Axes>"
            ]
          },
          "metadata": {
            "tags": []
          }
        }
      ]
    },
    {
      "cell_type": "code",
      "metadata": {
        "id": "0Qh2D3LEUYaY",
        "colab_type": "code",
        "colab": {
          "base_uri": "https://localhost:8080/",
          "height": 238
        },
        "outputId": "a2ef0662-5afe-4bd9-94a3-0b75d36763a5"
      },
      "source": [
        "# Number of missing values\n",
        "print(df_train.isnull().sum().sort_values(ascending=False))"
      ],
      "execution_count": null,
      "outputs": [
        {
          "output_type": "stream",
          "text": [
            "Cabin          687\n",
            "Age            177\n",
            "Embarked         2\n",
            "Fare             0\n",
            "Ticket           0\n",
            "Parch            0\n",
            "SibSp            0\n",
            "Sex              0\n",
            "Name             0\n",
            "Pclass           0\n",
            "Survived         0\n",
            "PassengerId      0\n",
            "dtype: int64\n"
          ],
          "name": "stdout"
        }
      ]
    },
    {
      "cell_type": "code",
      "metadata": {
        "id": "J1SjEQzFOAWw",
        "colab_type": "code",
        "colab": {
          "base_uri": "https://localhost:8080/",
          "height": 238
        },
        "outputId": "c4cf35a4-5d7f-4141-92dd-e89c594ab7d4"
      },
      "source": [
        "# Number of missing %\n",
        "print(round((df_train.isnull().mean()*100).sort_values(ascending=False),2))"
      ],
      "execution_count": null,
      "outputs": [
        {
          "output_type": "stream",
          "text": [
            "Cabin          77.10\n",
            "Age            19.87\n",
            "Embarked        0.22\n",
            "Fare            0.00\n",
            "Ticket          0.00\n",
            "Parch           0.00\n",
            "SibSp           0.00\n",
            "Sex             0.00\n",
            "Name            0.00\n",
            "Pclass          0.00\n",
            "Survived        0.00\n",
            "PassengerId     0.00\n",
            "dtype: float64\n"
          ],
          "name": "stdout"
        }
      ]
    },
    {
      "cell_type": "code",
      "metadata": {
        "id": "roxUY2v4TyN4",
        "colab_type": "code",
        "colab": {
          "base_uri": "https://localhost:8080/",
          "height": 391
        },
        "outputId": "bb49a27f-3ddb-4842-d56e-3116db535fe1"
      },
      "source": [
        "df_train['Age'].dropna().plot.hist()"
      ],
      "execution_count": null,
      "outputs": [
        {
          "output_type": "execute_result",
          "data": {
            "text/plain": [
              "<matplotlib.axes._subplots.AxesSubplot at 0x7fe4c6e74a20>"
            ]
          },
          "metadata": {
            "tags": []
          },
          "execution_count": 237
        },
        {
          "output_type": "display_data",
          "data": {
            "image/png": "[encoded data removed]",
            "text/plain": [
              "<Figure size 720x432 with 1 Axes>"
            ]
          },
          "metadata": {
            "tags": []
          }
        }
      ]
    },
    {
      "cell_type": "code",
      "metadata": {
        "id": "HOkAFZgzM3EJ",
        "colab_type": "code",
        "colab": {
          "base_uri": "https://localhost:8080/",
          "height": 405
        },
        "outputId": "ea23db8e-d142-48a3-aaa6-c9d51c7a5ddd"
      },
      "source": [
        "sns.countplot(x='Survived', hue='Sex',data=df_train)"
      ],
      "execution_count": null,
      "outputs": [
        {
          "output_type": "execute_result",
          "data": {
            "text/plain": [
              "<matplotlib.axes._subplots.AxesSubplot at 0x7fe4c6e7b320>"
            ]
          },
          "metadata": {
            "tags": []
          },
          "execution_count": 238
        },
        {
          "output_type": "display_data",
          "data": {
            "image/png": "[encoded data removed]",
            "text/plain": [
              "<Figure size 720x432 with 1 Axes>"
            ]
          },
          "metadata": {
            "tags": []
          }
        }
      ]
    },
    {
      "cell_type": "code",
      "metadata": {
        "id": "ed1M9pkdR51i",
        "colab_type": "code",
        "colab": {
          "base_uri": "https://localhost:8080/",
          "height": 405
        },
        "outputId": "684475e7-5a66-4a80-b97f-c12df562a6f3"
      },
      "source": [
        "sns.countplot(x='Pclass', hue='Survived',data=df_train)"
      ],
      "execution_count": null,
      "outputs": [
        {
          "output_type": "execute_result",
          "data": {
            "text/plain": [
              "<matplotlib.axes._subplots.AxesSubplot at 0x7fe4c7283908>"
            ]
          },
          "metadata": {
            "tags": []
          },
          "execution_count": 239
        },
        {
          "output_type": "display_data",
          "data": {
            "image/png": "[encoded data removed]",
            "text/plain": [
              "<Figure size 720x432 with 1 Axes>"
            ]
          },
          "metadata": {
            "tags": []
          }
        }
      ]
    },
    {
      "cell_type": "code",
      "metadata": {
        "id": "nlTouWuhXBK0",
        "colab_type": "code",
        "colab": {
          "base_uri": "https://localhost:8080/",
          "height": 395
        },
        "outputId": "b86edf70-c8c8-4284-a575-abdddc14c4f7"
      },
      "source": [
        "# Correlation plot\n",
        "sns.heatmap(df_train.corr(), annot=True, cmap='coolwarm')"
      ],
      "execution_count": null,
      "outputs": [
        {
          "output_type": "execute_result",
          "data": {
            "text/plain": [
              "<matplotlib.axes._subplots.AxesSubplot at 0x7fe4c74c67f0>"
            ]
          },
          "metadata": {
            "tags": []
          },
          "execution_count": 240
        },
        {
          "output_type": "display_data",
          "data": {
            "image/png": "[encoded data removed]",
            "text/plain": [
              "<Figure size 720x432 with 2 Axes>"
            ]
          },
          "metadata": {
            "tags": []
          }
        }
      ]
    },
    {
      "cell_type": "markdown",
      "metadata": {
        "id": "NMnYpDNKDDTo",
        "colab_type": "text"
      },
      "source": [
        "## Filling missing data in *df_train*\n",
        "\n",
        "\n"
      ]
    },
    {
      "cell_type": "markdown",
      "metadata": {
        "id": "0GsfAHlLDO-p",
        "colab_type": "text"
      },
      "source": [
        "### Using LinearRegression model to predict missing Age"
      ]
    },
    {
      "cell_type": "markdown",
      "metadata": {
        "id": "shwlrMNrWZoH",
        "colab_type": "text"
      },
      "source": [
        "The '*df_train*' is divided in to two parts\n",
        "- Data Frame with \"**Available Age**\" (Training Data set)\n",
        "- Data Frame with \"**Missing Age**\" (Testing Data set)\n"
      ]
    },
    {
      "cell_type": "code",
      "metadata": {
        "id": "SMVbUZaV7YYB",
        "colab_type": "code",
        "colab": {
          "base_uri": "https://localhost:8080/",
          "height": 289
        },
        "outputId": "979a5e99-0941-463d-a30d-5ece01499787"
      },
      "source": [
        "df_train_missingAge = df_train[df_train['Age'].isnull()]\n",
        "print('No of data points with Age missing = {}\\n'.format(len(df_train_missingAge)))\n",
        "print(df_train_missingAge)"
      ],
      "execution_count": null,
      "outputs": [
        {
          "output_type": "stream",
          "text": [
            "No of data points with Age missing = 177\n",
            "\n",
            "     PassengerId  Survived  Pclass  ...     Fare Cabin  Embarked\n",
            "5              6         0       3  ...   8.4583   NaN         Q\n",
            "17            18         1       2  ...  13.0000   NaN         S\n",
            "19            20         1       3  ...   7.2250   NaN         C\n",
            "26            27         0       3  ...   7.2250   NaN         C\n",
            "28            29         1       3  ...   7.8792   NaN         Q\n",
            "..           ...       ...     ...  ...      ...   ...       ...\n",
            "859          860         0       3  ...   7.2292   NaN         C\n",
            "863          864         0       3  ...  69.5500   NaN         S\n",
            "868          869         0       3  ...   9.5000   NaN         S\n",
            "878          879         0       3  ...   7.8958   NaN         S\n",
            "888          889         0       3  ...  23.4500   NaN         S\n",
            "\n",
            "[177 rows x 12 columns]\n"
          ],
          "name": "stdout"
        }
      ]
    },
    {
      "cell_type": "code",
      "metadata": {
        "id": "3N6JDIky-luN",
        "colab_type": "code",
        "colab": {
          "base_uri": "https://localhost:8080/",
          "height": 289
        },
        "outputId": "00309aff-2c8f-41a3-b709-c7b976657437"
      },
      "source": [
        "df_train_availableAge = df_train[df_train['Age'].notnull()]\n",
        "print('No of data points with Age NOT missing = {}\\n'.format(len(df_train_availableAge)))\n",
        "print(df_train_availableAge)"
      ],
      "execution_count": null,
      "outputs": [
        {
          "output_type": "stream",
          "text": [
            "No of data points with Age NOT missing = 714\n",
            "\n",
            "     PassengerId  Survived  Pclass  ...     Fare Cabin  Embarked\n",
            "0              1         0       3  ...   7.2500   NaN         S\n",
            "1              2         1       1  ...  71.2833   C85         C\n",
            "2              3         1       3  ...   7.9250   NaN         S\n",
            "3              4         1       1  ...  53.1000  C123         S\n",
            "4              5         0       3  ...   8.0500   NaN         S\n",
            "..           ...       ...     ...  ...      ...   ...       ...\n",
            "885          886         0       3  ...  29.1250   NaN         Q\n",
            "886          887         0       2  ...  13.0000   NaN         S\n",
            "887          888         1       1  ...  30.0000   B42         S\n",
            "889          890         1       1  ...  30.0000  C148         C\n",
            "890          891         0       3  ...   7.7500   NaN         Q\n",
            "\n",
            "[714 rows x 12 columns]\n"
          ],
          "name": "stdout"
        }
      ]
    },
    {
      "cell_type": "code",
      "metadata": {
        "id": "yvbUbDUP-al7",
        "colab_type": "code",
        "colab": {}
      },
      "source": [
        "# All numerical cols of known Age data points as training data\n",
        "X_train1 = df_train_availableAge[['Pclass', 'Fare', 'SibSp','Parch']] \n",
        "\n",
        "# Age of known data points as Target\n",
        "y_train1 = df_train_availableAge['Age']\n",
        "\n",
        "# All numerical cols of missing Age data points as training data\n",
        "X_test1 = df_train_missingAge[['Pclass', 'Fare', 'SibSp','Parch']]"
      ],
      "execution_count": null,
      "outputs": []
    },
    {
      "cell_type": "code",
      "metadata": {
        "id": "oFLQRZOkAYeX",
        "colab_type": "code",
        "colab": {
          "base_uri": "https://localhost:8080/",
          "height": 34
        },
        "outputId": "889cb723-2ed2-49c9-f7f0-130f3fce82e1"
      },
      "source": [
        "lr1 = LinearRegression()\n",
        "lr1.fit(X_train1, y_train1)"
      ],
      "execution_count": null,
      "outputs": [
        {
          "output_type": "execute_result",
          "data": {
            "text/plain": [
              "LinearRegression(copy_X=True, fit_intercept=True, n_jobs=None, normalize=False)"
            ]
          },
          "metadata": {
            "tags": []
          },
          "execution_count": 244
        }
      ]
    },
    {
      "cell_type": "code",
      "metadata": {
        "id": "9VNgXORxD_NF",
        "colab_type": "code",
        "colab": {
          "base_uri": "https://localhost:8080/",
          "height": 238
        },
        "outputId": "ddc05b8a-308a-4e6b-d494-5f95b7d0fea5"
      },
      "source": [
        "predicted_age1 = lr1.predict(X_test1)\n",
        "predicted_age1 = np.round(predicted_age1,1)\n",
        "print(predicted_age1)"
      ],
      "execution_count": null,
      "outputs": [
        {
          "output_type": "stream",
          "text": [
            "[27.5 34.2 27.5 27.5 27.5 27.5 34.5 27.5 27.5 27.5 27.5 23.6 27.5 19.6\n",
            " 40.5 40.7 22.4 27.5 27.5 27.5 27.5 27.5 27.5 27.5 23.4 27.5 27.5 22.2\n",
            " 25.  27.5 27.5 -6.7 39.  40.7 14.5 -6.7 34.2 40.3 23.6 27.5 27.5 -6.7\n",
            " 23.7 27.5 14.5 27.5 23.6 23.6 27.5 39.7 27.5 27.5 40.6 27.5 34.5 40.7\n",
            " 40.7 40.6 27.5 19.6 34.2 27.5 39.  -6.7 19.6 34.8 27.5 23.5 40.6 27.5\n",
            " 27.5 27.5 23.6 27.5 27.5 35.8 27.5 27.5 14.5 27.5 27.6 34.5 27.5 27.5\n",
            " 27.5 27.5 23.5 27.5 23.5 27.5 36.4 27.5 27.5 34.5 27.5 27.5 40.2 34.5\n",
            " 14.5 23.5 27.4 27.4 27.5 40.7 27.5 27.2 27.5 27.5 36.8 27.5 24.9 27.4\n",
            " 34.2 27.5 36.7 27.5 27.5 27.5 27.5 27.5 23.6 27.5 27.5 25.1 33.8 27.5\n",
            " 27.5 40.4 27.6 23.6 27.5 27.5 41.2 23.5 26.6 27.5 27.5 27.5 27.5 27.5\n",
            " 36.4 34.5 27.5 26.6 27.5 22.4 40.7 27.4 27.5 34.5 27.5 27.5 40.7 27.4\n",
            " 40.5 23.4 27.5 27.5 27.5 21.  27.5 -6.7 40.6 41.2 27.6 26.6 27.5 27.5\n",
            " 27.5 40.7 -6.7 35.6 27.5 -6.7 27.5 27.5 21. ]\n"
          ],
          "name": "stdout"
        }
      ]
    },
    {
      "cell_type": "markdown",
      "metadata": {
        "id": "QOQSpUEhc5Ka",
        "colab_type": "text"
      },
      "source": [
        "### DataFrame *df_train* with predicted Age\n",
        "\n"
      ]
    },
    {
      "cell_type": "code",
      "metadata": {
        "id": "dSVw30ggcPko",
        "colab_type": "code",
        "colab": {
          "base_uri": "https://localhost:8080/",
          "height": 669
        },
        "outputId": "709328e3-09ad-4e9f-bef5-5f298c65b7c8"
      },
      "source": [
        "final_df_train = df_train.copy() #Make a copy of df_train\n",
        "final_df_train.loc[final_df_train['Age'].isnull(), 'Age'] = predicted_age1\n",
        "final_df_train.head(20) #df_train with filled Age "
      ],
      "execution_count": null,
      "outputs": [
        {
          "output_type": "execute_result",
          "data": {
            "text/html": [
              "<div>\n",
              "<style scoped>\n",
              "    .dataframe tbody tr th:only-of-type {\n",
              "        vertical-align: middle;\n",
              "    }\n",
              "\n",
              "    .dataframe tbody tr th {\n",
              "        vertical-align: top;\n",
              "    }\n",
              "\n",
              "    .dataframe thead th {\n",
              "        text-align: right;\n",
              "    }\n",
              "</style>\n",
              "<table border=\"1\" class=\"dataframe\">\n",
              "  <thead>\n",
              "    <tr style=\"text-align: right;\">\n",
              "      <th></th>\n",
              "      <th>PassengerId</th>\n",
              "      <th>Survived</th>\n",
              "      <th>Pclass</th>\n",
              "      <th>Name</th>\n",
              "      <th>Sex</th>\n",
              "      <th>Age</th>\n",
              "      <th>SibSp</th>\n",
              "      <th>Parch</th>\n",
              "      <th>Ticket</th>\n",
              "      <th>Fare</th>\n",
              "      <th>Cabin</th>\n",
              "      <th>Embarked</th>\n",
              "    </tr>\n",
              "  </thead>\n",
              "  <tbody>\n",
              "    <tr>\n",
              "      <th>0</th>\n",
              "      <td>1</td>\n",
              "      <td>0</td>\n",
              "      <td>3</td>\n",
              "      <td>Braund, Mr. Owen Harris</td>\n",
              "      <td>male</td>\n",
              "      <td>22.0</td>\n",
              "      <td>1</td>\n",
              "      <td>0</td>\n",
              "      <td>A/5 21171</td>\n",
              "      <td>7.2500</td>\n",
              "      <td>NaN</td>\n",
              "      <td>S</td>\n",
              "    </tr>\n",
              "    <tr>\n",
              "      <th>1</th>\n",
              "      <td>2</td>\n",
              "      <td>1</td>\n",
              "      <td>1</td>\n",
              "      <td>Cumings, Mrs. John Bradley (Florence Briggs Th...</td>\n",
              "      <td>female</td>\n",
              "      <td>38.0</td>\n",
              "      <td>1</td>\n",
              "      <td>0</td>\n",
              "      <td>PC 17599</td>\n",
              "      <td>71.2833</td>\n",
              "      <td>C85</td>\n",
              "      <td>C</td>\n",
              "    </tr>\n",
              "    <tr>\n",
              "      <th>2</th>\n",
              "      <td>3</td>\n",
              "      <td>1</td>\n",
              "      <td>3</td>\n",
              "      <td>Heikkinen, Miss. Laina</td>\n",
              "      <td>female</td>\n",
              "      <td>26.0</td>\n",
              "      <td>0</td>\n",
              "      <td>0</td>\n",
              "      <td>STON/O2. 3101282</td>\n",
              "      <td>7.9250</td>\n",
              "      <td>NaN</td>\n",
              "      <td>S</td>\n",
              "    </tr>\n",
              "    <tr>\n",
              "      <th>3</th>\n",
              "      <td>4</td>\n",
              "      <td>1</td>\n",
              "      <td>1</td>\n",
              "      <td>Futrelle, Mrs. Jacques Heath (Lily May Peel)</td>\n",
              "      <td>female</td>\n",
              "      <td>35.0</td>\n",
              "      <td>1</td>\n",
              "      <td>0</td>\n",
              "      <td>113803</td>\n",
              "      <td>53.1000</td>\n",
              "      <td>C123</td>\n",
              "      <td>S</td>\n",
              "    </tr>\n",
              "    <tr>\n",
              "      <th>4</th>\n",
              "      <td>5</td>\n",
              "      <td>0</td>\n",
              "      <td>3</td>\n",
              "      <td>Allen, Mr. William Henry</td>\n",
              "      <td>male</td>\n",
              "      <td>35.0</td>\n",
              "      <td>0</td>\n",
              "      <td>0</td>\n",
              "      <td>373450</td>\n",
              "      <td>8.0500</td>\n",
              "      <td>NaN</td>\n",
              "      <td>S</td>\n",
              "    </tr>\n",
              "    <tr>\n",
              "      <th>5</th>\n",
              "      <td>6</td>\n",
              "      <td>0</td>\n",
              "      <td>3</td>\n",
              "      <td>Moran, Mr. James</td>\n",
              "      <td>male</td>\n",
              "      <td>27.5</td>\n",
              "      <td>0</td>\n",
              "      <td>0</td>\n",
              "      <td>330877</td>\n",
              "      <td>8.4583</td>\n",
              "      <td>NaN</td>\n",
              "      <td>Q</td>\n",
              "    </tr>\n",
              "    <tr>\n",
              "      <th>6</th>\n",
              "      <td>7</td>\n",
              "      <td>0</td>\n",
              "      <td>1</td>\n",
              "      <td>McCarthy, Mr. Timothy J</td>\n",
              "      <td>male</td>\n",
              "      <td>54.0</td>\n",
              "      <td>0</td>\n",
              "      <td>0</td>\n",
              "      <td>17463</td>\n",
              "      <td>51.8625</td>\n",
              "      <td>E46</td>\n",
              "      <td>S</td>\n",
              "    </tr>\n",
              "    <tr>\n",
              "      <th>7</th>\n",
              "      <td>8</td>\n",
              "      <td>0</td>\n",
              "      <td>3</td>\n",
              "      <td>Palsson, Master. Gosta Leonard</td>\n",
              "      <td>male</td>\n",
              "      <td>2.0</td>\n",
              "      <td>3</td>\n",
              "      <td>1</td>\n",
              "      <td>349909</td>\n",
              "      <td>21.0750</td>\n",
              "      <td>NaN</td>\n",
              "      <td>S</td>\n",
              "    </tr>\n",
              "    <tr>\n",
              "      <th>8</th>\n",
              "      <td>9</td>\n",
              "      <td>1</td>\n",
              "      <td>3</td>\n",
              "      <td>Johnson, Mrs. Oscar W (Elisabeth Vilhelmina Berg)</td>\n",
              "      <td>female</td>\n",
              "      <td>27.0</td>\n",
              "      <td>0</td>\n",
              "      <td>2</td>\n",
              "      <td>347742</td>\n",
              "      <td>11.1333</td>\n",
              "      <td>NaN</td>\n",
              "      <td>S</td>\n",
              "    </tr>\n",
              "    <tr>\n",
              "      <th>9</th>\n",
              "      <td>10</td>\n",
              "      <td>1</td>\n",
              "      <td>2</td>\n",
              "      <td>Nasser, Mrs. Nicholas (Adele Achem)</td>\n",
              "      <td>female</td>\n",
              "      <td>14.0</td>\n",
              "      <td>1</td>\n",
              "      <td>0</td>\n",
              "      <td>237736</td>\n",
              "      <td>30.0708</td>\n",
              "      <td>NaN</td>\n",
              "      <td>C</td>\n",
              "    </tr>\n",
              "    <tr>\n",
              "      <th>10</th>\n",
              "      <td>11</td>\n",
              "      <td>1</td>\n",
              "      <td>3</td>\n",
              "      <td>Sandstrom, Miss. Marguerite Rut</td>\n",
              "      <td>female</td>\n",
              "      <td>4.0</td>\n",
              "      <td>1</td>\n",
              "      <td>1</td>\n",
              "      <td>PP 9549</td>\n",
              "      <td>16.7000</td>\n",
              "      <td>G6</td>\n",
              "      <td>S</td>\n",
              "    </tr>\n",
              "    <tr>\n",
              "      <th>11</th>\n",
              "      <td>12</td>\n",
              "      <td>1</td>\n",
              "      <td>1</td>\n",
              "      <td>Bonnell, Miss. Elizabeth</td>\n",
              "      <td>female</td>\n",
              "      <td>58.0</td>\n",
              "      <td>0</td>\n",
              "      <td>0</td>\n",
              "      <td>113783</td>\n",
              "      <td>26.5500</td>\n",
              "      <td>C103</td>\n",
              "      <td>S</td>\n",
              "    </tr>\n",
              "    <tr>\n",
              "      <th>12</th>\n",
              "      <td>13</td>\n",
              "      <td>0</td>\n",
              "      <td>3</td>\n",
              "      <td>Saundercock, Mr. William Henry</td>\n",
              "      <td>male</td>\n",
              "      <td>20.0</td>\n",
              "      <td>0</td>\n",
              "      <td>0</td>\n",
              "      <td>A/5. 2151</td>\n",
              "      <td>8.0500</td>\n",
              "      <td>NaN</td>\n",
              "      <td>S</td>\n",
              "    </tr>\n",
              "    <tr>\n",
              "      <th>13</th>\n",
              "      <td>14</td>\n",
              "      <td>0</td>\n",
              "      <td>3</td>\n",
              "      <td>Andersson, Mr. Anders Johan</td>\n",
              "      <td>male</td>\n",
              "      <td>39.0</td>\n",
              "      <td>1</td>\n",
              "      <td>5</td>\n",
              "      <td>347082</td>\n",
              "      <td>31.2750</td>\n",
              "      <td>NaN</td>\n",
              "      <td>S</td>\n",
              "    </tr>\n",
              "    <tr>\n",
              "      <th>14</th>\n",
              "      <td>15</td>\n",
              "      <td>0</td>\n",
              "      <td>3</td>\n",
              "      <td>Vestrom, Miss. Hulda Amanda Adolfina</td>\n",
              "      <td>female</td>\n",
              "      <td>14.0</td>\n",
              "      <td>0</td>\n",
              "      <td>0</td>\n",
              "      <td>350406</td>\n",
              "      <td>7.8542</td>\n",
              "      <td>NaN</td>\n",
              "      <td>S</td>\n",
              "    </tr>\n",
              "    <tr>\n",
              "      <th>15</th>\n",
              "      <td>16</td>\n",
              "      <td>1</td>\n",
              "      <td>2</td>\n",
              "      <td>Hewlett, Mrs. (Mary D Kingcome)</td>\n",
              "      <td>female</td>\n",
              "      <td>55.0</td>\n",
              "      <td>0</td>\n",
              "      <td>0</td>\n",
              "      <td>248706</td>\n",
              "      <td>16.0000</td>\n",
              "      <td>NaN</td>\n",
              "      <td>S</td>\n",
              "    </tr>\n",
              "    <tr>\n",
              "      <th>16</th>\n",
              "      <td>17</td>\n",
              "      <td>0</td>\n",
              "      <td>3</td>\n",
              "      <td>Rice, Master. Eugene</td>\n",
              "      <td>male</td>\n",
              "      <td>2.0</td>\n",
              "      <td>4</td>\n",
              "      <td>1</td>\n",
              "      <td>382652</td>\n",
              "      <td>29.1250</td>\n",
              "      <td>NaN</td>\n",
              "      <td>Q</td>\n",
              "    </tr>\n",
              "    <tr>\n",
              "      <th>17</th>\n",
              "      <td>18</td>\n",
              "      <td>1</td>\n",
              "      <td>2</td>\n",
              "      <td>Williams, Mr. Charles Eugene</td>\n",
              "      <td>male</td>\n",
              "      <td>34.2</td>\n",
              "      <td>0</td>\n",
              "      <td>0</td>\n",
              "      <td>244373</td>\n",
              "      <td>13.0000</td>\n",
              "      <td>NaN</td>\n",
              "      <td>S</td>\n",
              "    </tr>\n",
              "    <tr>\n",
              "      <th>18</th>\n",
              "      <td>19</td>\n",
              "      <td>0</td>\n",
              "      <td>3</td>\n",
              "      <td>Vander Planke, Mrs. Julius (Emelia Maria Vande...</td>\n",
              "      <td>female</td>\n",
              "      <td>31.0</td>\n",
              "      <td>1</td>\n",
              "      <td>0</td>\n",
              "      <td>345763</td>\n",
              "      <td>18.0000</td>\n",
              "      <td>NaN</td>\n",
              "      <td>S</td>\n",
              "    </tr>\n",
              "    <tr>\n",
              "      <th>19</th>\n",
              "      <td>20</td>\n",
              "      <td>1</td>\n",
              "      <td>3</td>\n",
              "      <td>Masselmani, Mrs. Fatima</td>\n",
              "      <td>female</td>\n",
              "      <td>27.5</td>\n",
              "      <td>0</td>\n",
              "      <td>0</td>\n",
              "      <td>2649</td>\n",
              "      <td>7.2250</td>\n",
              "      <td>NaN</td>\n",
              "      <td>C</td>\n",
              "    </tr>\n",
              "  </tbody>\n",
              "</table>\n",
              "</div>"
            ],
            "text/plain": [
              "    PassengerId  Survived  Pclass  ...     Fare Cabin  Embarked\n",
              "0             1         0       3  ...   7.2500   NaN         S\n",
              "1             2         1       1  ...  71.2833   C85         C\n",
              "2             3         1       3  ...   7.9250   NaN         S\n",
              "3             4         1       1  ...  53.1000  C123         S\n",
              "4             5         0       3  ...   8.0500   NaN         S\n",
              "5             6         0       3  ...   8.4583   NaN         Q\n",
              "6             7         0       1  ...  51.8625   E46         S\n",
              "7             8         0       3  ...  21.0750   NaN         S\n",
              "8             9         1       3  ...  11.1333   NaN         S\n",
              "9            10         1       2  ...  30.0708   NaN         C\n",
              "10           11         1       3  ...  16.7000    G6         S\n",
              "11           12         1       1  ...  26.5500  C103         S\n",
              "12           13         0       3  ...   8.0500   NaN         S\n",
              "13           14         0       3  ...  31.2750   NaN         S\n",
              "14           15         0       3  ...   7.8542   NaN         S\n",
              "15           16         1       2  ...  16.0000   NaN         S\n",
              "16           17         0       3  ...  29.1250   NaN         Q\n",
              "17           18         1       2  ...  13.0000   NaN         S\n",
              "18           19         0       3  ...  18.0000   NaN         S\n",
              "19           20         1       3  ...   7.2250   NaN         C\n",
              "\n",
              "[20 rows x 12 columns]"
            ]
          },
          "metadata": {
            "tags": []
          },
          "execution_count": 246
        }
      ]
    },
    {
      "cell_type": "markdown",
      "metadata": {
        "id": "RnqXeiBaeHsi",
        "colab_type": "text"
      },
      "source": [
        "## Cleaning Training Data "
      ]
    },
    {
      "cell_type": "code",
      "metadata": {
        "id": "ShqDCiKaeGoU",
        "colab_type": "code",
        "colab": {
          "base_uri": "https://localhost:8080/",
          "height": 238
        },
        "outputId": "792c91c8-de86-476d-ef45-b0a39133b144"
      },
      "source": [
        "# After filling Age column, we check misiing values again\n",
        "print(round((final_df_train.isnull().mean()*100).sort_values(ascending=False),2))"
      ],
      "execution_count": null,
      "outputs": [
        {
          "output_type": "stream",
          "text": [
            "Cabin          77.10\n",
            "Embarked        0.22\n",
            "Fare            0.00\n",
            "Ticket          0.00\n",
            "Parch           0.00\n",
            "SibSp           0.00\n",
            "Age             0.00\n",
            "Sex             0.00\n",
            "Name            0.00\n",
            "Pclass          0.00\n",
            "Survived        0.00\n",
            "PassengerId     0.00\n",
            "dtype: float64\n"
          ],
          "name": "stdout"
        }
      ]
    },
    {
      "cell_type": "code",
      "metadata": {
        "id": "vXRX0YmRhWuJ",
        "colab_type": "code",
        "colab": {}
      },
      "source": [
        "# Lot of data in Cabin is missing hence Cabin is not useful, so let's drop\n",
        "final_df_train.drop('Cabin', axis=1, inplace=True) "
      ],
      "execution_count": null,
      "outputs": []
    },
    {
      "cell_type": "markdown",
      "metadata": {
        "id": "QuZH8Qd-ltEH",
        "colab_type": "text"
      },
      "source": [
        "Here, couple of Embarked are missing, I would like to ignore it now as later when we use dummies on Embarked and using dummies will make these rows value to as 0."
      ]
    },
    {
      "cell_type": "code",
      "metadata": {
        "id": "HZu27sFEjJ4e",
        "colab_type": "code",
        "colab": {}
      },
      "source": [
        "# Dropping 'Name' and 'Ticket' \n",
        "final_df_train.drop(['Name', 'Ticket'], axis=1, inplace=True)"
      ],
      "execution_count": null,
      "outputs": []
    },
    {
      "cell_type": "code",
      "metadata": {
        "id": "zKUdL0NCMg18",
        "colab_type": "code",
        "colab": {
          "base_uri": "https://localhost:8080/",
          "height": 255
        },
        "outputId": "f4d3ad9c-e37a-47e0-e96e-57625412d056"
      },
      "source": [
        "print(final_df_train)"
      ],
      "execution_count": null,
      "outputs": [
        {
          "output_type": "stream",
          "text": [
            "     PassengerId  Survived  Pclass     Sex  ...  SibSp  Parch     Fare  Embarked\n",
            "0              1         0       3    male  ...      1      0   7.2500         S\n",
            "1              2         1       1  female  ...      1      0  71.2833         C\n",
            "2              3         1       3  female  ...      0      0   7.9250         S\n",
            "3              4         1       1  female  ...      1      0  53.1000         S\n",
            "4              5         0       3    male  ...      0      0   8.0500         S\n",
            "..           ...       ...     ...     ...  ...    ...    ...      ...       ...\n",
            "886          887         0       2    male  ...      0      0  13.0000         S\n",
            "887          888         1       1  female  ...      0      0  30.0000         S\n",
            "888          889         0       3  female  ...      1      2  23.4500         S\n",
            "889          890         1       1    male  ...      0      0  30.0000         C\n",
            "890          891         0       3    male  ...      0      0   7.7500         Q\n",
            "\n",
            "[891 rows x 9 columns]\n"
          ],
          "name": "stdout"
        }
      ]
    },
    {
      "cell_type": "markdown",
      "metadata": {
        "id": "2hMRUEi5Mt5R",
        "colab_type": "text"
      },
      "source": [
        "## Preparing Training Data "
      ]
    },
    {
      "cell_type": "code",
      "metadata": {
        "id": "7eMfg1YGM07V",
        "colab_type": "code",
        "colab": {
          "base_uri": "https://localhost:8080/",
          "height": 255
        },
        "outputId": "da059c03-5716-466e-951d-6749814f2829"
      },
      "source": [
        "Sex1 = pd.get_dummies(final_df_train['Sex'], drop_first=True)\n",
        "print(Sex1)"
      ],
      "execution_count": null,
      "outputs": [
        {
          "output_type": "stream",
          "text": [
            "     male\n",
            "0       1\n",
            "1       0\n",
            "2       0\n",
            "3       0\n",
            "4       1\n",
            "..    ...\n",
            "886     1\n",
            "887     0\n",
            "888     0\n",
            "889     1\n",
            "890     1\n",
            "\n",
            "[891 rows x 1 columns]\n"
          ],
          "name": "stdout"
        }
      ]
    },
    {
      "cell_type": "code",
      "metadata": {
        "id": "qv-jlgeDOUVc",
        "colab_type": "code",
        "colab": {
          "base_uri": "https://localhost:8080/",
          "height": 255
        },
        "outputId": "48e8a218-0902-4be3-9320-244b53af5541"
      },
      "source": [
        "Embarked1 = pd.get_dummies(final_df_train['Embarked'], drop_first=True)\n",
        "print(Embarked1)"
      ],
      "execution_count": null,
      "outputs": [
        {
          "output_type": "stream",
          "text": [
            "     Q  S\n",
            "0    0  1\n",
            "1    0  0\n",
            "2    0  1\n",
            "3    0  1\n",
            "4    0  1\n",
            "..  .. ..\n",
            "886  0  1\n",
            "887  0  1\n",
            "888  0  1\n",
            "889  0  0\n",
            "890  1  0\n",
            "\n",
            "[891 rows x 2 columns]\n"
          ],
          "name": "stdout"
        }
      ]
    },
    {
      "cell_type": "code",
      "metadata": {
        "id": "5zyz-eo4OjVw",
        "colab_type": "code",
        "colab": {}
      },
      "source": [
        "final_df_train.drop(['Sex', 'Embarked'], axis=1, inplace=True)"
      ],
      "execution_count": null,
      "outputs": []
    },
    {
      "cell_type": "code",
      "metadata": {
        "id": "AbPmGZrVOyS8",
        "colab_type": "code",
        "colab": {}
      },
      "source": [
        "final_df_train = pd.concat([final_df_train, Sex1, Embarked1], axis=1)"
      ],
      "execution_count": null,
      "outputs": []
    },
    {
      "cell_type": "markdown",
      "metadata": {
        "id": "5zQUoNJxPaqu",
        "colab_type": "text"
      },
      "source": [
        "Final Training Data"
      ]
    },
    {
      "cell_type": "code",
      "metadata": {
        "id": "yH6URZKMPUpf",
        "colab_type": "code",
        "colab": {
          "base_uri": "https://localhost:8080/",
          "height": 255
        },
        "outputId": "6c2c8835-5de5-4dbe-dc26-3c5ee96bf8a5"
      },
      "source": [
        "print(final_df_train)"
      ],
      "execution_count": null,
      "outputs": [
        {
          "output_type": "stream",
          "text": [
            "     PassengerId  Survived  Pclass   Age  SibSp  Parch     Fare  male  Q  S\n",
            "0              1         0       3  22.0      1      0   7.2500     1  0  1\n",
            "1              2         1       1  38.0      1      0  71.2833     0  0  0\n",
            "2              3         1       3  26.0      0      0   7.9250     0  0  1\n",
            "3              4         1       1  35.0      1      0  53.1000     0  0  1\n",
            "4              5         0       3  35.0      0      0   8.0500     1  0  1\n",
            "..           ...       ...     ...   ...    ...    ...      ...   ... .. ..\n",
            "886          887         0       2  27.0      0      0  13.0000     1  0  1\n",
            "887          888         1       1  19.0      0      0  30.0000     0  0  1\n",
            "888          889         0       3  21.0      1      2  23.4500     0  0  1\n",
            "889          890         1       1  26.0      0      0  30.0000     1  0  0\n",
            "890          891         0       3  32.0      0      0   7.7500     1  1  0\n",
            "\n",
            "[891 rows x 10 columns]\n"
          ],
          "name": "stdout"
        }
      ]
    },
    {
      "cell_type": "markdown",
      "metadata": {
        "colab_type": "text",
        "id": "Iby0DJSQP4E4"
      },
      "source": [
        "# Testing Data (*df_test*)\n",
        "---\n"
      ]
    },
    {
      "cell_type": "markdown",
      "metadata": {
        "id": "Vhiz54Pqfh7Z",
        "colab_type": "text"
      },
      "source": [
        "We will repeat same process as training set (*df_train*)"
      ]
    },
    {
      "cell_type": "markdown",
      "metadata": {
        "colab_type": "text",
        "id": "iI5GOmCVPu_-"
      },
      "source": [
        "## Exploring Data\n",
        "\n"
      ]
    },
    {
      "cell_type": "code",
      "metadata": {
        "colab_type": "code",
        "id": "9nG7VukgcDjU",
        "colab": {
          "base_uri": "https://localhost:8080/",
          "height": 323
        },
        "outputId": "bf931033-4e7b-459a-b1ce-3eb0a81a9304"
      },
      "source": [
        "df_test.info()"
      ],
      "execution_count": null,
      "outputs": [
        {
          "output_type": "stream",
          "text": [
            "<class 'pandas.core.frame.DataFrame'>\n",
            "RangeIndex: 418 entries, 0 to 417\n",
            "Data columns (total 11 columns):\n",
            " #   Column       Non-Null Count  Dtype  \n",
            "---  ------       --------------  -----  \n",
            " 0   PassengerId  418 non-null    int64  \n",
            " 1   Pclass       418 non-null    int64  \n",
            " 2   Name         418 non-null    object \n",
            " 3   Sex          418 non-null    object \n",
            " 4   Age          332 non-null    float64\n",
            " 5   SibSp        418 non-null    int64  \n",
            " 6   Parch        418 non-null    int64  \n",
            " 7   Ticket       418 non-null    object \n",
            " 8   Fare         417 non-null    float64\n",
            " 9   Cabin        91 non-null     object \n",
            " 10  Embarked     418 non-null    object \n",
            "dtypes: float64(2), int64(4), object(5)\n",
            "memory usage: 36.0+ KB\n"
          ],
          "name": "stdout"
        }
      ]
    },
    {
      "cell_type": "code",
      "metadata": {
        "colab_type": "code",
        "id": "XrqWcneugBw9",
        "colab": {
          "base_uri": "https://localhost:8080/",
          "height": 34
        },
        "outputId": "500af23f-1e00-4c82-aaa6-5a6b4b6e1ff5"
      },
      "source": [
        "# Get numeric columns\n",
        "print('Numeric cols :',df_test.select_dtypes(include=[np.number]).columns.values)"
      ],
      "execution_count": null,
      "outputs": [
        {
          "output_type": "stream",
          "text": [
            "Numeric cols : ['PassengerId' 'Pclass' 'Age' 'SibSp' 'Parch' 'Fare']\n"
          ],
          "name": "stdout"
        }
      ]
    },
    {
      "cell_type": "code",
      "metadata": {
        "colab_type": "code",
        "id": "p-rjXmXfgBxJ",
        "colab": {
          "base_uri": "https://localhost:8080/",
          "height": 34
        },
        "outputId": "f5e03f51-1463-42d5-8a78-326f6ec00399"
      },
      "source": [
        "# Get Non-numeric columns\n",
        "print('Categorical cols :',df_test.select_dtypes(exclude=[np.number]).columns.values)"
      ],
      "execution_count": null,
      "outputs": [
        {
          "output_type": "stream",
          "text": [
            "Categorical cols : ['Name' 'Sex' 'Ticket' 'Cabin' 'Embarked']\n"
          ],
          "name": "stdout"
        }
      ]
    },
    {
      "cell_type": "code",
      "metadata": {
        "colab_type": "code",
        "id": "H_tkj7YkcDjm",
        "colab": {
          "base_uri": "https://localhost:8080/",
          "height": 407
        },
        "outputId": "b2cc8002-0142-4d83-e128-84e904e37e45"
      },
      "source": [
        "df_test.describe(include='all')"
      ],
      "execution_count": null,
      "outputs": [
        {
          "output_type": "execute_result",
          "data": {
            "text/html": [
              "<div>\n",
              "<style scoped>\n",
              "    .dataframe tbody tr th:only-of-type {\n",
              "        vertical-align: middle;\n",
              "    }\n",
              "\n",
              "    .dataframe tbody tr th {\n",
              "        vertical-align: top;\n",
              "    }\n",
              "\n",
              "    .dataframe thead th {\n",
              "        text-align: right;\n",
              "    }\n",
              "</style>\n",
              "<table border=\"1\" class=\"dataframe\">\n",
              "  <thead>\n",
              "    <tr style=\"text-align: right;\">\n",
              "      <th></th>\n",
              "      <th>PassengerId</th>\n",
              "      <th>Pclass</th>\n",
              "      <th>Name</th>\n",
              "      <th>Sex</th>\n",
              "      <th>Age</th>\n",
              "      <th>SibSp</th>\n",
              "      <th>Parch</th>\n",
              "      <th>Ticket</th>\n",
              "      <th>Fare</th>\n",
              "      <th>Cabin</th>\n",
              "      <th>Embarked</th>\n",
              "    </tr>\n",
              "  </thead>\n",
              "  <tbody>\n",
              "    <tr>\n",
              "      <th>count</th>\n",
              "      <td>418.000000</td>\n",
              "      <td>418.000000</td>\n",
              "      <td>418</td>\n",
              "      <td>418</td>\n",
              "      <td>332.000000</td>\n",
              "      <td>418.000000</td>\n",
              "      <td>418.000000</td>\n",
              "      <td>418</td>\n",
              "      <td>417.000000</td>\n",
              "      <td>91</td>\n",
              "      <td>418</td>\n",
              "    </tr>\n",
              "    <tr>\n",
              "      <th>unique</th>\n",
              "      <td>NaN</td>\n",
              "      <td>NaN</td>\n",
              "      <td>418</td>\n",
              "      <td>2</td>\n",
              "      <td>NaN</td>\n",
              "      <td>NaN</td>\n",
              "      <td>NaN</td>\n",
              "      <td>363</td>\n",
              "      <td>NaN</td>\n",
              "      <td>76</td>\n",
              "      <td>3</td>\n",
              "    </tr>\n",
              "    <tr>\n",
              "      <th>top</th>\n",
              "      <td>NaN</td>\n",
              "      <td>NaN</td>\n",
              "      <td>Lindeberg-Lind, Mr. Erik Gustaf (Mr Edward Lin...</td>\n",
              "      <td>male</td>\n",
              "      <td>NaN</td>\n",
              "      <td>NaN</td>\n",
              "      <td>NaN</td>\n",
              "      <td>PC 17608</td>\n",
              "      <td>NaN</td>\n",
              "      <td>B57 B59 B63 B66</td>\n",
              "      <td>S</td>\n",
              "    </tr>\n",
              "    <tr>\n",
              "      <th>freq</th>\n",
              "      <td>NaN</td>\n",
              "      <td>NaN</td>\n",
              "      <td>1</td>\n",
              "      <td>266</td>\n",
              "      <td>NaN</td>\n",
              "      <td>NaN</td>\n",
              "      <td>NaN</td>\n",
              "      <td>5</td>\n",
              "      <td>NaN</td>\n",
              "      <td>3</td>\n",
              "      <td>270</td>\n",
              "    </tr>\n",
              "    <tr>\n",
              "      <th>mean</th>\n",
              "      <td>1100.500000</td>\n",
              "      <td>2.265550</td>\n",
              "      <td>NaN</td>\n",
              "      <td>NaN</td>\n",
              "      <td>30.272590</td>\n",
              "      <td>0.447368</td>\n",
              "      <td>0.392344</td>\n",
              "      <td>NaN</td>\n",
              "      <td>35.627188</td>\n",
              "      <td>NaN</td>\n",
              "      <td>NaN</td>\n",
              "    </tr>\n",
              "    <tr>\n",
              "      <th>std</th>\n",
              "      <td>120.810458</td>\n",
              "      <td>0.841838</td>\n",
              "      <td>NaN</td>\n",
              "      <td>NaN</td>\n",
              "      <td>14.181209</td>\n",
              "      <td>0.896760</td>\n",
              "      <td>0.981429</td>\n",
              "      <td>NaN</td>\n",
              "      <td>55.907576</td>\n",
              "      <td>NaN</td>\n",
              "      <td>NaN</td>\n",
              "    </tr>\n",
              "    <tr>\n",
              "      <th>min</th>\n",
              "      <td>892.000000</td>\n",
              "      <td>1.000000</td>\n",
              "      <td>NaN</td>\n",
              "      <td>NaN</td>\n",
              "      <td>0.170000</td>\n",
              "      <td>0.000000</td>\n",
              "      <td>0.000000</td>\n",
              "      <td>NaN</td>\n",
              "      <td>0.000000</td>\n",
              "      <td>NaN</td>\n",
              "      <td>NaN</td>\n",
              "    </tr>\n",
              "    <tr>\n",
              "      <th>25%</th>\n",
              "      <td>996.250000</td>\n",
              "      <td>1.000000</td>\n",
              "      <td>NaN</td>\n",
              "      <td>NaN</td>\n",
              "      <td>21.000000</td>\n",
              "      <td>0.000000</td>\n",
              "      <td>0.000000</td>\n",
              "      <td>NaN</td>\n",
              "      <td>7.895800</td>\n",
              "      <td>NaN</td>\n",
              "      <td>NaN</td>\n",
              "    </tr>\n",
              "    <tr>\n",
              "      <th>50%</th>\n",
              "      <td>1100.500000</td>\n",
              "      <td>3.000000</td>\n",
              "      <td>NaN</td>\n",
              "      <td>NaN</td>\n",
              "      <td>27.000000</td>\n",
              "      <td>0.000000</td>\n",
              "      <td>0.000000</td>\n",
              "      <td>NaN</td>\n",
              "      <td>14.454200</td>\n",
              "      <td>NaN</td>\n",
              "      <td>NaN</td>\n",
              "    </tr>\n",
              "    <tr>\n",
              "      <th>75%</th>\n",
              "      <td>1204.750000</td>\n",
              "      <td>3.000000</td>\n",
              "      <td>NaN</td>\n",
              "      <td>NaN</td>\n",
              "      <td>39.000000</td>\n",
              "      <td>1.000000</td>\n",
              "      <td>0.000000</td>\n",
              "      <td>NaN</td>\n",
              "      <td>31.500000</td>\n",
              "      <td>NaN</td>\n",
              "      <td>NaN</td>\n",
              "    </tr>\n",
              "    <tr>\n",
              "      <th>max</th>\n",
              "      <td>1309.000000</td>\n",
              "      <td>3.000000</td>\n",
              "      <td>NaN</td>\n",
              "      <td>NaN</td>\n",
              "      <td>76.000000</td>\n",
              "      <td>8.000000</td>\n",
              "      <td>9.000000</td>\n",
              "      <td>NaN</td>\n",
              "      <td>512.329200</td>\n",
              "      <td>NaN</td>\n",
              "      <td>NaN</td>\n",
              "    </tr>\n",
              "  </tbody>\n",
              "</table>\n",
              "</div>"
            ],
            "text/plain": [
              "        PassengerId      Pclass  ...            Cabin Embarked\n",
              "count    418.000000  418.000000  ...               91      418\n",
              "unique          NaN         NaN  ...               76        3\n",
              "top             NaN         NaN  ...  B57 B59 B63 B66        S\n",
              "freq            NaN         NaN  ...                3      270\n",
              "mean    1100.500000    2.265550  ...              NaN      NaN\n",
              "std      120.810458    0.841838  ...              NaN      NaN\n",
              "min      892.000000    1.000000  ...              NaN      NaN\n",
              "25%      996.250000    1.000000  ...              NaN      NaN\n",
              "50%     1100.500000    3.000000  ...              NaN      NaN\n",
              "75%     1204.750000    3.000000  ...              NaN      NaN\n",
              "max     1309.000000    3.000000  ...              NaN      NaN\n",
              "\n",
              "[11 rows x 11 columns]"
            ]
          },
          "metadata": {
            "tags": []
          },
          "execution_count": 260
        }
      ]
    },
    {
      "cell_type": "code",
      "metadata": {
        "colab_type": "code",
        "id": "Gsau_SZecDjp",
        "colab": {
          "base_uri": "https://localhost:8080/",
          "height": 391
        },
        "outputId": "2d596f68-5a5b-4bbb-b7a7-2f26261ce45c"
      },
      "source": [
        "# Check for missing data\n",
        "sns.heatmap(df_test.isnull(), yticklabels=False, cbar=False, cmap='viridis')"
      ],
      "execution_count": null,
      "outputs": [
        {
          "output_type": "execute_result",
          "data": {
            "text/plain": [
              "<matplotlib.axes._subplots.AxesSubplot at 0x7fe4c6cbc160>"
            ]
          },
          "metadata": {
            "tags": []
          },
          "execution_count": 261
        },
        {
          "output_type": "display_data",
          "data": {
            "image/png": "[encoded data removed]",
            "text/plain": [
              "<Figure size 720x432 with 1 Axes>"
            ]
          },
          "metadata": {
            "tags": []
          }
        }
      ]
    },
    {
      "cell_type": "code",
      "metadata": {
        "colab_type": "code",
        "id": "ZfF4WtW6cDjs",
        "colab": {
          "base_uri": "https://localhost:8080/",
          "height": 221
        },
        "outputId": "2af442a7-f910-44d0-e617-2e6602e494ae"
      },
      "source": [
        "# Missing values \n",
        "print((df_test.isnull().sum()).sort_values(ascending=False))"
      ],
      "execution_count": null,
      "outputs": [
        {
          "output_type": "stream",
          "text": [
            "Cabin          327\n",
            "Age             86\n",
            "Fare             1\n",
            "Embarked         0\n",
            "Ticket           0\n",
            "Parch            0\n",
            "SibSp            0\n",
            "Sex              0\n",
            "Name             0\n",
            "Pclass           0\n",
            "PassengerId      0\n",
            "dtype: int64\n"
          ],
          "name": "stdout"
        }
      ]
    },
    {
      "cell_type": "code",
      "metadata": {
        "id": "6OZidqZ6gh-z",
        "colab_type": "code",
        "colab": {
          "base_uri": "https://localhost:8080/",
          "height": 221
        },
        "outputId": "564af981-0d3c-436f-8672-8727426cb9b3"
      },
      "source": [
        "# Missing values in %\n",
        "print((df_test.isnull().mean()*100).sort_values(ascending=False))"
      ],
      "execution_count": null,
      "outputs": [
        {
          "output_type": "stream",
          "text": [
            "Cabin          78.229665\n",
            "Age            20.574163\n",
            "Fare            0.239234\n",
            "Embarked        0.000000\n",
            "Ticket          0.000000\n",
            "Parch           0.000000\n",
            "SibSp           0.000000\n",
            "Sex             0.000000\n",
            "Name            0.000000\n",
            "Pclass          0.000000\n",
            "PassengerId     0.000000\n",
            "dtype: float64\n"
          ],
          "name": "stdout"
        }
      ]
    },
    {
      "cell_type": "code",
      "metadata": {
        "colab_type": "code",
        "id": "wCDvngtAcDjv",
        "colab": {
          "base_uri": "https://localhost:8080/",
          "height": 391
        },
        "outputId": "75b6c6ae-cd8a-42ab-f0d5-45c1b12b9529"
      },
      "source": [
        "df_test['Age'].dropna().plot.hist()"
      ],
      "execution_count": null,
      "outputs": [
        {
          "output_type": "execute_result",
          "data": {
            "text/plain": [
              "<matplotlib.axes._subplots.AxesSubplot at 0x7fe4c6c07160>"
            ]
          },
          "metadata": {
            "tags": []
          },
          "execution_count": 264
        },
        {
          "output_type": "display_data",
          "data": {
            "image/png": "[encoded data removed]",
            "text/plain": [
              "<Figure size 720x432 with 1 Axes>"
            ]
          },
          "metadata": {
            "tags": []
          }
        }
      ]
    },
    {
      "cell_type": "code",
      "metadata": {
        "colab_type": "code",
        "id": "WjC1eKO5cDj2",
        "colab": {
          "base_uri": "https://localhost:8080/",
          "height": 405
        },
        "outputId": "9cf70222-3f10-4ad7-b4b1-570e7e34752f"
      },
      "source": [
        "sns.countplot(x='Pclass', hue='Sex',data=df_test)"
      ],
      "execution_count": null,
      "outputs": [
        {
          "output_type": "execute_result",
          "data": {
            "text/plain": [
              "<matplotlib.axes._subplots.AxesSubplot at 0x7fe4c6b8e5f8>"
            ]
          },
          "metadata": {
            "tags": []
          },
          "execution_count": 265
        },
        {
          "output_type": "display_data",
          "data": {
            "image/png": "[encoded data removed]",
            "text/plain": [
              "<Figure size 720x432 with 1 Axes>"
            ]
          },
          "metadata": {
            "tags": []
          }
        }
      ]
    },
    {
      "cell_type": "code",
      "metadata": {
        "colab_type": "code",
        "id": "Q9FtSvU-cDj6",
        "colab": {
          "base_uri": "https://localhost:8080/",
          "height": 395
        },
        "outputId": "97f91e55-a8ca-40ed-bb4d-c3c1c4d4941e"
      },
      "source": [
        "sns.heatmap(df_test.corr(), annot=True, cmap='coolwarm')"
      ],
      "execution_count": null,
      "outputs": [
        {
          "output_type": "execute_result",
          "data": {
            "text/plain": [
              "<matplotlib.axes._subplots.AxesSubplot at 0x7fe4c6b78978>"
            ]
          },
          "metadata": {
            "tags": []
          },
          "execution_count": 266
        },
        {
          "output_type": "display_data",
          "data": {
            "image/png": "[encoded data removed]",
            "text/plain": [
              "<Figure size 720x432 with 2 Axes>"
            ]
          },
          "metadata": {
            "tags": []
          }
        }
      ]
    },
    {
      "cell_type": "markdown",
      "metadata": {
        "colab_type": "text",
        "id": "pmUylNoRQqEE"
      },
      "source": [
        "## Filling missing data in  *df_test*\n",
        "\n",
        "\n"
      ]
    },
    {
      "cell_type": "code",
      "metadata": {
        "id": "yDs3vlqUnICn",
        "colab_type": "code",
        "colab": {}
      },
      "source": [
        "# As only 0.2% Fare values are missing, we can fill those with mean\n",
        "df_test.loc[df_test['Fare'].isnull(), 'Fare'] = df_test['Fare'].mean()"
      ],
      "execution_count": null,
      "outputs": []
    },
    {
      "cell_type": "code",
      "metadata": {
        "id": "Nc-5zrh7oaOg",
        "colab_type": "code",
        "colab": {
          "base_uri": "https://localhost:8080/",
          "height": 34
        },
        "outputId": "bfd932eb-5c48-4c72-c445-cfe89ad85364"
      },
      "source": [
        "# We can verify the same\n",
        "df_test['Fare'].isnull().sum()"
      ],
      "execution_count": null,
      "outputs": [
        {
          "output_type": "execute_result",
          "data": {
            "text/plain": [
              "0"
            ]
          },
          "metadata": {
            "tags": []
          },
          "execution_count": 272
        }
      ]
    },
    {
      "cell_type": "markdown",
      "metadata": {
        "id": "VxwEAyAxoUml",
        "colab_type": "text"
      },
      "source": [
        "### Using LinearRegression model to predict missing Age"
      ]
    },
    {
      "cell_type": "markdown",
      "metadata": {
        "colab_type": "text",
        "id": "zU9MUlQmhXRH"
      },
      "source": [
        "The '*df_test*' is divided in to two parts\n",
        "- Data Frame with \"**Available Age**\" (Training Data set)\n",
        "- Data Frame with \"**Missing Age**\" (Testing Data set)\n"
      ]
    },
    {
      "cell_type": "code",
      "metadata": {
        "colab_type": "code",
        "id": "zpZ8dF1Ui_-u",
        "colab": {
          "base_uri": "https://localhost:8080/",
          "height": 289
        },
        "outputId": "03b0f291-ebeb-4533-f18f-e9f542d0b181"
      },
      "source": [
        "df_test_missingAge = df_test[df_test['Age'].isnull()]\n",
        "print('No of data points with Age missing = {}\\n'.format(len(df_test_missingAge)))\n",
        "print(df_test_missingAge)"
      ],
      "execution_count": null,
      "outputs": [
        {
          "output_type": "stream",
          "text": [
            "No of data points with Age missing = 86\n",
            "\n",
            "     PassengerId  Pclass  ... Cabin Embarked\n",
            "10           902       3  ...   NaN        S\n",
            "22           914       1  ...   NaN        S\n",
            "29           921       3  ...   NaN        C\n",
            "33           925       3  ...   NaN        S\n",
            "36           928       3  ...   NaN        S\n",
            "..           ...     ...  ...   ...      ...\n",
            "408         1300       3  ...   NaN        Q\n",
            "410         1302       3  ...   NaN        Q\n",
            "413         1305       3  ...   NaN        S\n",
            "416         1308       3  ...   NaN        S\n",
            "417         1309       3  ...   NaN        C\n",
            "\n",
            "[86 rows x 11 columns]\n"
          ],
          "name": "stdout"
        }
      ]
    },
    {
      "cell_type": "code",
      "metadata": {
        "colab_type": "code",
        "id": "Tt34MZeihMvi",
        "colab": {
          "base_uri": "https://localhost:8080/",
          "height": 289
        },
        "outputId": "414dd6a3-8690-4dbc-8624-d6dea7222c9f"
      },
      "source": [
        "df_test_availableAge = df_test[df_test['Age'].notnull()]\n",
        "print('No of data points with Age NOT missing = {}\\n'.format(len(df_test_availableAge)))\n",
        "print(df_test_availableAge)"
      ],
      "execution_count": null,
      "outputs": [
        {
          "output_type": "stream",
          "text": [
            "No of data points with Age NOT missing = 332\n",
            "\n",
            "     PassengerId  Pclass  ... Cabin Embarked\n",
            "0            892       3  ...   NaN        Q\n",
            "1            893       3  ...   NaN        S\n",
            "2            894       2  ...   NaN        Q\n",
            "3            895       3  ...   NaN        S\n",
            "4            896       3  ...   NaN        S\n",
            "..           ...     ...  ...   ...      ...\n",
            "409         1301       3  ...   NaN        S\n",
            "411         1303       1  ...   C78        Q\n",
            "412         1304       3  ...   NaN        S\n",
            "414         1306       1  ...  C105        C\n",
            "415         1307       3  ...   NaN        S\n",
            "\n",
            "[332 rows x 11 columns]\n"
          ],
          "name": "stdout"
        }
      ]
    },
    {
      "cell_type": "code",
      "metadata": {
        "colab_type": "code",
        "id": "qS1cTPgshMvs",
        "colab": {}
      },
      "source": [
        "# All numerical cols of known Age data points as training data\n",
        "X_train2 = df_test_availableAge[['Pclass', 'Fare', 'SibSp','Parch']] \n",
        "\n",
        "# Age of known data points as Target\n",
        "y_train2 = df_test_availableAge['Age']\n",
        "\n",
        "# All numerical cols of missing Age data points as training data\n",
        "X_test2 = df_test_missingAge[['Pclass', 'Fare', 'SibSp','Parch']]"
      ],
      "execution_count": null,
      "outputs": []
    },
    {
      "cell_type": "code",
      "metadata": {
        "colab_type": "code",
        "id": "CcmaiTSKQ5pd",
        "colab": {
          "base_uri": "https://localhost:8080/",
          "height": 34
        },
        "outputId": "2f649194-e38b-4f7e-ff8c-3a08e6a26f99"
      },
      "source": [
        "lr2 = LinearRegression()\n",
        "lr2.fit(X_train2, y_train2)"
      ],
      "execution_count": null,
      "outputs": [
        {
          "output_type": "execute_result",
          "data": {
            "text/plain": [
              "LinearRegression(copy_X=True, fit_intercept=True, n_jobs=None, normalize=False)"
            ]
          },
          "metadata": {
            "tags": []
          },
          "execution_count": 277
        }
      ]
    },
    {
      "cell_type": "code",
      "metadata": {
        "colab_type": "code",
        "id": "D9Uyf7AMQ5pj",
        "colab": {
          "base_uri": "https://localhost:8080/",
          "height": 136
        },
        "outputId": "4ee5b034-332a-475f-fa63-a0e15fcae32d"
      },
      "source": [
        "predicted_age2 = lr2.predict(X_test2)\n",
        "predicted_age2 = np.round(predicted_age2,1)\n",
        "print(predicted_age2)"
      ],
      "execution_count": null,
      "outputs": [
        {
          "output_type": "stream",
          "text": [
            "[24.4 39.3 21.9 21.3 24.4 25.7 39.2 24.4 31.7 23.2 31.9 24.4 24.4 31.6\n",
            " 23.2 24.4 24.4 24.4 24.4 24.4 24.4 24.4 24.4 23.  24.4 22.  20.6 22.9\n",
            " 39.8 39.2 24.4 24.4 24.4 39.2 24.4 24.4 24.4 12.5 39.1 24.4 24.6 39.1\n",
            " 24.4 24.4 24.4 22.5 24.4 24.4 24.4 21.3 23.2 24.4 24.4 24.4 38.5 24.4\n",
            " 24.4 24.4 23.2 24.4 24.4 24.4 24.4 24.4 39.5 24.4 21.9 31.7 24.4 24.4\n",
            " 24.4 24.4 15.1 22.1 24.4 24.4 15.1 23.2 24.4 24.6 31.7 24.4 24.4 24.4\n",
            " 24.4 22.3]\n"
          ],
          "name": "stdout"
        }
      ]
    },
    {
      "cell_type": "markdown",
      "metadata": {
        "colab_type": "text",
        "id": "VTmBsh2p4yoA"
      },
      "source": [
        "### DataFrame *df_test* with predicted Age\n",
        "\n"
      ]
    },
    {
      "cell_type": "code",
      "metadata": {
        "colab_type": "code",
        "id": "o7ehcI5z4yoX",
        "colab": {
          "base_uri": "https://localhost:8080/",
          "height": 669
        },
        "outputId": "86237cb1-e34a-4c97-9bf2-89aa1e1ea9cc"
      },
      "source": [
        "final_df_test = df_test.copy() #Make a copy of df_test\n",
        "final_df_test.loc[final_df_test['Age'].isnull(), 'Age'] = predicted_age2\n",
        "final_df_test.head(20) #df_test with filled Age "
      ],
      "execution_count": null,
      "outputs": [
        {
          "output_type": "execute_result",
          "data": {
            "text/html": [
              "<div>\n",
              "<style scoped>\n",
              "    .dataframe tbody tr th:only-of-type {\n",
              "        vertical-align: middle;\n",
              "    }\n",
              "\n",
              "    .dataframe tbody tr th {\n",
              "        vertical-align: top;\n",
              "    }\n",
              "\n",
              "    .dataframe thead th {\n",
              "        text-align: right;\n",
              "    }\n",
              "</style>\n",
              "<table border=\"1\" class=\"dataframe\">\n",
              "  <thead>\n",
              "    <tr style=\"text-align: right;\">\n",
              "      <th></th>\n",
              "      <th>PassengerId</th>\n",
              "      <th>Pclass</th>\n",
              "      <th>Name</th>\n",
              "      <th>Sex</th>\n",
              "      <th>Age</th>\n",
              "      <th>SibSp</th>\n",
              "      <th>Parch</th>\n",
              "      <th>Ticket</th>\n",
              "      <th>Fare</th>\n",
              "      <th>Cabin</th>\n",
              "      <th>Embarked</th>\n",
              "    </tr>\n",
              "  </thead>\n",
              "  <tbody>\n",
              "    <tr>\n",
              "      <th>0</th>\n",
              "      <td>892</td>\n",
              "      <td>3</td>\n",
              "      <td>Kelly, Mr. James</td>\n",
              "      <td>male</td>\n",
              "      <td>34.5</td>\n",
              "      <td>0</td>\n",
              "      <td>0</td>\n",
              "      <td>330911</td>\n",
              "      <td>7.8292</td>\n",
              "      <td>NaN</td>\n",
              "      <td>Q</td>\n",
              "    </tr>\n",
              "    <tr>\n",
              "      <th>1</th>\n",
              "      <td>893</td>\n",
              "      <td>3</td>\n",
              "      <td>Wilkes, Mrs. James (Ellen Needs)</td>\n",
              "      <td>female</td>\n",
              "      <td>47.0</td>\n",
              "      <td>1</td>\n",
              "      <td>0</td>\n",
              "      <td>363272</td>\n",
              "      <td>7.0000</td>\n",
              "      <td>NaN</td>\n",
              "      <td>S</td>\n",
              "    </tr>\n",
              "    <tr>\n",
              "      <th>2</th>\n",
              "      <td>894</td>\n",
              "      <td>2</td>\n",
              "      <td>Myles, Mr. Thomas Francis</td>\n",
              "      <td>male</td>\n",
              "      <td>62.0</td>\n",
              "      <td>0</td>\n",
              "      <td>0</td>\n",
              "      <td>240276</td>\n",
              "      <td>9.6875</td>\n",
              "      <td>NaN</td>\n",
              "      <td>Q</td>\n",
              "    </tr>\n",
              "    <tr>\n",
              "      <th>3</th>\n",
              "      <td>895</td>\n",
              "      <td>3</td>\n",
              "      <td>Wirz, Mr. Albert</td>\n",
              "      <td>male</td>\n",
              "      <td>27.0</td>\n",
              "      <td>0</td>\n",
              "      <td>0</td>\n",
              "      <td>315154</td>\n",
              "      <td>8.6625</td>\n",
              "      <td>NaN</td>\n",
              "      <td>S</td>\n",
              "    </tr>\n",
              "    <tr>\n",
              "      <th>4</th>\n",
              "      <td>896</td>\n",
              "      <td>3</td>\n",
              "      <td>Hirvonen, Mrs. Alexander (Helga E Lindqvist)</td>\n",
              "      <td>female</td>\n",
              "      <td>22.0</td>\n",
              "      <td>1</td>\n",
              "      <td>1</td>\n",
              "      <td>3101298</td>\n",
              "      <td>12.2875</td>\n",
              "      <td>NaN</td>\n",
              "      <td>S</td>\n",
              "    </tr>\n",
              "    <tr>\n",
              "      <th>5</th>\n",
              "      <td>897</td>\n",
              "      <td>3</td>\n",
              "      <td>Svensson, Mr. Johan Cervin</td>\n",
              "      <td>male</td>\n",
              "      <td>14.0</td>\n",
              "      <td>0</td>\n",
              "      <td>0</td>\n",
              "      <td>7538</td>\n",
              "      <td>9.2250</td>\n",
              "      <td>NaN</td>\n",
              "      <td>S</td>\n",
              "    </tr>\n",
              "    <tr>\n",
              "      <th>6</th>\n",
              "      <td>898</td>\n",
              "      <td>3</td>\n",
              "      <td>Connolly, Miss. Kate</td>\n",
              "      <td>female</td>\n",
              "      <td>30.0</td>\n",
              "      <td>0</td>\n",
              "      <td>0</td>\n",
              "      <td>330972</td>\n",
              "      <td>7.6292</td>\n",
              "      <td>NaN</td>\n",
              "      <td>Q</td>\n",
              "    </tr>\n",
              "    <tr>\n",
              "      <th>7</th>\n",
              "      <td>899</td>\n",
              "      <td>2</td>\n",
              "      <td>Caldwell, Mr. Albert Francis</td>\n",
              "      <td>male</td>\n",
              "      <td>26.0</td>\n",
              "      <td>1</td>\n",
              "      <td>1</td>\n",
              "      <td>248738</td>\n",
              "      <td>29.0000</td>\n",
              "      <td>NaN</td>\n",
              "      <td>S</td>\n",
              "    </tr>\n",
              "    <tr>\n",
              "      <th>8</th>\n",
              "      <td>900</td>\n",
              "      <td>3</td>\n",
              "      <td>Abrahim, Mrs. Joseph (Sophie Halaut Easu)</td>\n",
              "      <td>female</td>\n",
              "      <td>18.0</td>\n",
              "      <td>0</td>\n",
              "      <td>0</td>\n",
              "      <td>2657</td>\n",
              "      <td>7.2292</td>\n",
              "      <td>NaN</td>\n",
              "      <td>C</td>\n",
              "    </tr>\n",
              "    <tr>\n",
              "      <th>9</th>\n",
              "      <td>901</td>\n",
              "      <td>3</td>\n",
              "      <td>Davies, Mr. John Samuel</td>\n",
              "      <td>male</td>\n",
              "      <td>21.0</td>\n",
              "      <td>2</td>\n",
              "      <td>0</td>\n",
              "      <td>A/4 48871</td>\n",
              "      <td>24.1500</td>\n",
              "      <td>NaN</td>\n",
              "      <td>S</td>\n",
              "    </tr>\n",
              "    <tr>\n",
              "      <th>10</th>\n",
              "      <td>902</td>\n",
              "      <td>3</td>\n",
              "      <td>Ilieff, Mr. Ylio</td>\n",
              "      <td>male</td>\n",
              "      <td>24.4</td>\n",
              "      <td>0</td>\n",
              "      <td>0</td>\n",
              "      <td>349220</td>\n",
              "      <td>7.8958</td>\n",
              "      <td>NaN</td>\n",
              "      <td>S</td>\n",
              "    </tr>\n",
              "    <tr>\n",
              "      <th>11</th>\n",
              "      <td>903</td>\n",
              "      <td>1</td>\n",
              "      <td>Jones, Mr. Charles Cresson</td>\n",
              "      <td>male</td>\n",
              "      <td>46.0</td>\n",
              "      <td>0</td>\n",
              "      <td>0</td>\n",
              "      <td>694</td>\n",
              "      <td>26.0000</td>\n",
              "      <td>NaN</td>\n",
              "      <td>S</td>\n",
              "    </tr>\n",
              "    <tr>\n",
              "      <th>12</th>\n",
              "      <td>904</td>\n",
              "      <td>1</td>\n",
              "      <td>Snyder, Mrs. John Pillsbury (Nelle Stevenson)</td>\n",
              "      <td>female</td>\n",
              "      <td>23.0</td>\n",
              "      <td>1</td>\n",
              "      <td>0</td>\n",
              "      <td>21228</td>\n",
              "      <td>82.2667</td>\n",
              "      <td>B45</td>\n",
              "      <td>S</td>\n",
              "    </tr>\n",
              "    <tr>\n",
              "      <th>13</th>\n",
              "      <td>905</td>\n",
              "      <td>2</td>\n",
              "      <td>Howard, Mr. Benjamin</td>\n",
              "      <td>male</td>\n",
              "      <td>63.0</td>\n",
              "      <td>1</td>\n",
              "      <td>0</td>\n",
              "      <td>24065</td>\n",
              "      <td>26.0000</td>\n",
              "      <td>NaN</td>\n",
              "      <td>S</td>\n",
              "    </tr>\n",
              "    <tr>\n",
              "      <th>14</th>\n",
              "      <td>906</td>\n",
              "      <td>1</td>\n",
              "      <td>Chaffee, Mrs. Herbert Fuller (Carrie Constance...</td>\n",
              "      <td>female</td>\n",
              "      <td>47.0</td>\n",
              "      <td>1</td>\n",
              "      <td>0</td>\n",
              "      <td>W.E.P. 5734</td>\n",
              "      <td>61.1750</td>\n",
              "      <td>E31</td>\n",
              "      <td>S</td>\n",
              "    </tr>\n",
              "    <tr>\n",
              "      <th>15</th>\n",
              "      <td>907</td>\n",
              "      <td>2</td>\n",
              "      <td>del Carlo, Mrs. Sebastiano (Argenia Genovesi)</td>\n",
              "      <td>female</td>\n",
              "      <td>24.0</td>\n",
              "      <td>1</td>\n",
              "      <td>0</td>\n",
              "      <td>SC/PARIS 2167</td>\n",
              "      <td>27.7208</td>\n",
              "      <td>NaN</td>\n",
              "      <td>C</td>\n",
              "    </tr>\n",
              "    <tr>\n",
              "      <th>16</th>\n",
              "      <td>908</td>\n",
              "      <td>2</td>\n",
              "      <td>Keane, Mr. Daniel</td>\n",
              "      <td>male</td>\n",
              "      <td>35.0</td>\n",
              "      <td>0</td>\n",
              "      <td>0</td>\n",
              "      <td>233734</td>\n",
              "      <td>12.3500</td>\n",
              "      <td>NaN</td>\n",
              "      <td>Q</td>\n",
              "    </tr>\n",
              "    <tr>\n",
              "      <th>17</th>\n",
              "      <td>909</td>\n",
              "      <td>3</td>\n",
              "      <td>Assaf, Mr. Gerios</td>\n",
              "      <td>male</td>\n",
              "      <td>21.0</td>\n",
              "      <td>0</td>\n",
              "      <td>0</td>\n",
              "      <td>2692</td>\n",
              "      <td>7.2250</td>\n",
              "      <td>NaN</td>\n",
              "      <td>C</td>\n",
              "    </tr>\n",
              "    <tr>\n",
              "      <th>18</th>\n",
              "      <td>910</td>\n",
              "      <td>3</td>\n",
              "      <td>Ilmakangas, Miss. Ida Livija</td>\n",
              "      <td>female</td>\n",
              "      <td>27.0</td>\n",
              "      <td>1</td>\n",
              "      <td>0</td>\n",
              "      <td>STON/O2. 3101270</td>\n",
              "      <td>7.9250</td>\n",
              "      <td>NaN</td>\n",
              "      <td>S</td>\n",
              "    </tr>\n",
              "    <tr>\n",
              "      <th>19</th>\n",
              "      <td>911</td>\n",
              "      <td>3</td>\n",
              "      <td>Assaf Khalil, Mrs. Mariana (Miriam\")\"</td>\n",
              "      <td>female</td>\n",
              "      <td>45.0</td>\n",
              "      <td>0</td>\n",
              "      <td>0</td>\n",
              "      <td>2696</td>\n",
              "      <td>7.2250</td>\n",
              "      <td>NaN</td>\n",
              "      <td>C</td>\n",
              "    </tr>\n",
              "  </tbody>\n",
              "</table>\n",
              "</div>"
            ],
            "text/plain": [
              "    PassengerId  Pclass  ... Cabin Embarked\n",
              "0           892       3  ...   NaN        Q\n",
              "1           893       3  ...   NaN        S\n",
              "2           894       2  ...   NaN        Q\n",
              "3           895       3  ...   NaN        S\n",
              "4           896       3  ...   NaN        S\n",
              "5           897       3  ...   NaN        S\n",
              "6           898       3  ...   NaN        Q\n",
              "7           899       2  ...   NaN        S\n",
              "8           900       3  ...   NaN        C\n",
              "9           901       3  ...   NaN        S\n",
              "10          902       3  ...   NaN        S\n",
              "11          903       1  ...   NaN        S\n",
              "12          904       1  ...   B45        S\n",
              "13          905       2  ...   NaN        S\n",
              "14          906       1  ...   E31        S\n",
              "15          907       2  ...   NaN        C\n",
              "16          908       2  ...   NaN        Q\n",
              "17          909       3  ...   NaN        C\n",
              "18          910       3  ...   NaN        S\n",
              "19          911       3  ...   NaN        C\n",
              "\n",
              "[20 rows x 11 columns]"
            ]
          },
          "metadata": {
            "tags": []
          },
          "execution_count": 279
        }
      ]
    },
    {
      "cell_type": "markdown",
      "metadata": {
        "colab_type": "text",
        "id": "uW83srEf4yoh"
      },
      "source": [
        "## Cleaning Testing Data "
      ]
    },
    {
      "cell_type": "code",
      "metadata": {
        "colab_type": "code",
        "id": "3bPgRpiIqcOH",
        "colab": {
          "base_uri": "https://localhost:8080/",
          "height": 221
        },
        "outputId": "6d71beb1-428e-49ad-d5bc-c52a52416b91"
      },
      "source": [
        "# After filling Age column, we check misiing values again\n",
        "print(round((final_df_test.isnull().mean()*100).sort_values(ascending=False),2))"
      ],
      "execution_count": null,
      "outputs": [
        {
          "output_type": "stream",
          "text": [
            "Cabin          78.23\n",
            "Embarked        0.00\n",
            "Fare            0.00\n",
            "Ticket          0.00\n",
            "Parch           0.00\n",
            "SibSp           0.00\n",
            "Age             0.00\n",
            "Sex             0.00\n",
            "Name            0.00\n",
            "Pclass          0.00\n",
            "PassengerId     0.00\n",
            "dtype: float64\n"
          ],
          "name": "stdout"
        }
      ]
    },
    {
      "cell_type": "code",
      "metadata": {
        "colab_type": "code",
        "id": "Y8i08u17qcOY",
        "colab": {}
      },
      "source": [
        "# Lot of data in Cabin is missing hence Cabin is not useful, so let's drop\n",
        "final_df_test.drop('Cabin', axis=1, inplace=True) "
      ],
      "execution_count": null,
      "outputs": []
    },
    {
      "cell_type": "code",
      "metadata": {
        "colab_type": "code",
        "id": "H9U_Owqv4yot",
        "colab": {
          "base_uri": "https://localhost:8080/",
          "height": 391
        },
        "outputId": "2e9450ff-81f3-4c39-ad37-22fe7d02d480"
      },
      "source": [
        "# Let's check again if any data is missing\n",
        "sns.heatmap(final_df_test.isnull(), yticklabels=False, cbar=False, cmap='viridis') "
      ],
      "execution_count": null,
      "outputs": [
        {
          "output_type": "execute_result",
          "data": {
            "text/plain": [
              "<matplotlib.axes._subplots.AxesSubplot at 0x7fe4c6a779b0>"
            ]
          },
          "metadata": {
            "tags": []
          },
          "execution_count": 283
        },
        {
          "output_type": "display_data",
          "data": {
            "image/png": "[encoded data removed]",
            "text/plain": [
              "<Figure size 720x432 with 1 Axes>"
            ]
          },
          "metadata": {
            "tags": []
          }
        }
      ]
    },
    {
      "cell_type": "code",
      "metadata": {
        "colab_type": "code",
        "id": "tjRz4Z2p4yoy",
        "colab": {}
      },
      "source": [
        "# Dropping 'Name' and 'Ticket'\n",
        "final_df_test.drop(['Name', 'Ticket'], axis=1, inplace=True)"
      ],
      "execution_count": null,
      "outputs": []
    },
    {
      "cell_type": "code",
      "metadata": {
        "colab_type": "code",
        "id": "A9nWtJf_4yo3",
        "colab": {
          "base_uri": "https://localhost:8080/",
          "height": 255
        },
        "outputId": "87f417e9-94cf-4daf-dbfd-ed5eb543140b"
      },
      "source": [
        "print(final_df_test)"
      ],
      "execution_count": null,
      "outputs": [
        {
          "output_type": "stream",
          "text": [
            "     PassengerId  Pclass     Sex   Age  SibSp  Parch      Fare Embarked\n",
            "0            892       3    male  34.5      0      0    7.8292        Q\n",
            "1            893       3  female  47.0      1      0    7.0000        S\n",
            "2            894       2    male  62.0      0      0    9.6875        Q\n",
            "3            895       3    male  27.0      0      0    8.6625        S\n",
            "4            896       3  female  22.0      1      1   12.2875        S\n",
            "..           ...     ...     ...   ...    ...    ...       ...      ...\n",
            "413         1305       3    male  24.4      0      0    8.0500        S\n",
            "414         1306       1  female  39.0      0      0  108.9000        C\n",
            "415         1307       3    male  38.5      0      0    7.2500        S\n",
            "416         1308       3    male  24.4      0      0    8.0500        S\n",
            "417         1309       3    male  22.3      1      1   22.3583        C\n",
            "\n",
            "[418 rows x 8 columns]\n"
          ],
          "name": "stdout"
        }
      ]
    },
    {
      "cell_type": "markdown",
      "metadata": {
        "colab_type": "text",
        "id": "rTHGJnhm4yo8"
      },
      "source": [
        "## Preparing Testing Data "
      ]
    },
    {
      "cell_type": "code",
      "metadata": {
        "colab_type": "code",
        "id": "09405mkz4yo9",
        "colab": {
          "base_uri": "https://localhost:8080/",
          "height": 255
        },
        "outputId": "d4162d68-3437-4710-82c8-1d480679e81d"
      },
      "source": [
        "Sex2 = pd.get_dummies(final_df_test['Sex'], drop_first=True)\n",
        "print(Sex2)"
      ],
      "execution_count": null,
      "outputs": [
        {
          "output_type": "stream",
          "text": [
            "     male\n",
            "0       1\n",
            "1       0\n",
            "2       1\n",
            "3       1\n",
            "4       0\n",
            "..    ...\n",
            "413     1\n",
            "414     0\n",
            "415     1\n",
            "416     1\n",
            "417     1\n",
            "\n",
            "[418 rows x 1 columns]\n"
          ],
          "name": "stdout"
        }
      ]
    },
    {
      "cell_type": "code",
      "metadata": {
        "colab_type": "code",
        "id": "kyy3zCzz4ypE",
        "colab": {
          "base_uri": "https://localhost:8080/",
          "height": 255
        },
        "outputId": "6502f464-b929-4d9f-dda6-715e4992dc87"
      },
      "source": [
        "Embarked2 = pd.get_dummies(final_df_test['Embarked'], drop_first=True)\n",
        "print(Embarked2)"
      ],
      "execution_count": null,
      "outputs": [
        {
          "output_type": "stream",
          "text": [
            "     Q  S\n",
            "0    1  0\n",
            "1    0  1\n",
            "2    1  0\n",
            "3    0  1\n",
            "4    0  1\n",
            "..  .. ..\n",
            "413  0  1\n",
            "414  0  0\n",
            "415  0  1\n",
            "416  0  1\n",
            "417  0  0\n",
            "\n",
            "[418 rows x 2 columns]\n"
          ],
          "name": "stdout"
        }
      ]
    },
    {
      "cell_type": "code",
      "metadata": {
        "colab_type": "code",
        "id": "GX98ESjD4ypK",
        "colab": {}
      },
      "source": [
        "final_df_test.drop(['Sex', 'Embarked'], axis=1, inplace=True)"
      ],
      "execution_count": null,
      "outputs": []
    },
    {
      "cell_type": "code",
      "metadata": {
        "colab_type": "code",
        "id": "M-u5Qdap4ypP",
        "colab": {}
      },
      "source": [
        "final_df_test = pd.concat([final_df_test, Sex2, Embarked2], axis=1)"
      ],
      "execution_count": null,
      "outputs": []
    },
    {
      "cell_type": "markdown",
      "metadata": {
        "colab_type": "text",
        "id": "UCeBDuhc4ypT"
      },
      "source": [
        "Final Testing Data"
      ]
    },
    {
      "cell_type": "code",
      "metadata": {
        "colab_type": "code",
        "id": "cetVmQmj4ypU",
        "colab": {
          "base_uri": "https://localhost:8080/",
          "height": 255
        },
        "outputId": "bfab5660-c992-4d80-bdef-9d241753f922"
      },
      "source": [
        "print(final_df_test)"
      ],
      "execution_count": null,
      "outputs": [
        {
          "output_type": "stream",
          "text": [
            "     PassengerId  Pclass   Age  SibSp  Parch      Fare  male  Q  S\n",
            "0            892       3  34.5      0      0    7.8292     1  1  0\n",
            "1            893       3  47.0      1      0    7.0000     0  0  1\n",
            "2            894       2  62.0      0      0    9.6875     1  1  0\n",
            "3            895       3  27.0      0      0    8.6625     1  0  1\n",
            "4            896       3  22.0      1      1   12.2875     0  0  1\n",
            "..           ...     ...   ...    ...    ...       ...   ... .. ..\n",
            "413         1305       3  24.4      0      0    8.0500     1  0  1\n",
            "414         1306       1  39.0      0      0  108.9000     0  0  0\n",
            "415         1307       3  38.5      0      0    7.2500     1  0  1\n",
            "416         1308       3  24.4      0      0    8.0500     1  0  1\n",
            "417         1309       3  22.3      1      1   22.3583     1  0  0\n",
            "\n",
            "[418 rows x 9 columns]\n"
          ],
          "name": "stdout"
        }
      ]
    },
    {
      "cell_type": "markdown",
      "metadata": {
        "id": "MvfZbgJx87H4",
        "colab_type": "text"
      },
      "source": [
        "# Logistic Regression Model to Predict Survivors"
      ]
    },
    {
      "cell_type": "code",
      "metadata": {
        "id": "vndmFPma86iF",
        "colab_type": "code",
        "colab": {}
      },
      "source": [
        "X_train = final_df_train.drop(['Survived','PassengerId'], axis=1)\n",
        "y_train = final_df_train['Survived'] \n",
        "X_test = final_df_test.drop('PassengerId', axis=1)"
      ],
      "execution_count": null,
      "outputs": []
    },
    {
      "cell_type": "code",
      "metadata": {
        "id": "Ily7XtnHvrP6",
        "colab_type": "code",
        "colab": {
          "base_uri": "https://localhost:8080/",
          "height": 1000
        },
        "outputId": "904eba67-a5e7-4d74-e459-d3abd9b8e509"
      },
      "source": [
        "log = LogisticRegression(max_iter=1000)\n",
        "param_grid = {'C':[0.1, 1, 10, 100, 1000]}\n",
        "grid = GridSearchCV(log, param_grid, verbose=3)\n",
        "grid.fit(X_train, y_train)"
      ],
      "execution_count": null,
      "outputs": [
        {
          "output_type": "stream",
          "text": [
            "Fitting 5 folds for each of 5 candidates, totalling 25 fits\n",
            "[CV] C=0.1 ...........................................................\n",
            "[CV] ............................... C=0.1, score=0.788, total=   0.0s\n",
            "[CV] C=0.1 ...........................................................\n",
            "[CV] ............................... C=0.1, score=0.798, total=   0.0s\n",
            "[CV] C=0.1 ...........................................................\n",
            "[CV] ............................... C=0.1, score=0.798, total=   0.0s\n",
            "[CV] C=0.1 ...........................................................\n",
            "[CV] ............................... C=0.1, score=0.775, total=   0.0s\n",
            "[CV] C=0.1 ...........................................................\n"
          ],
          "name": "stdout"
        },
        {
          "output_type": "stream",
          "text": [
            "[Parallel(n_jobs=1)]: Using backend SequentialBackend with 1 concurrent workers.\n",
            "[Parallel(n_jobs=1)]: Done   1 out of   1 | elapsed:    0.0s remaining:    0.0s\n",
            "[Parallel(n_jobs=1)]: Done   2 out of   2 | elapsed:    0.1s remaining:    0.0s\n"
          ],
          "name": "stderr"
        },
        {
          "output_type": "stream",
          "text": [
            "[CV] ............................... C=0.1, score=0.843, total=   0.1s\n",
            "[CV] C=1 .............................................................\n",
            "[CV] ................................. C=1, score=0.788, total=   0.0s\n",
            "[CV] C=1 .............................................................\n",
            "[CV] ................................. C=1, score=0.815, total=   0.0s\n",
            "[CV] C=1 .............................................................\n",
            "[CV] ................................. C=1, score=0.803, total=   0.1s\n",
            "[CV] C=1 .............................................................\n",
            "[CV] ................................. C=1, score=0.775, total=   0.0s\n",
            "[CV] C=1 .............................................................\n",
            "[CV] ................................. C=1, score=0.820, total=   0.1s\n",
            "[CV] C=10 ............................................................\n",
            "[CV] ................................ C=10, score=0.788, total=   0.1s\n",
            "[CV] C=10 ............................................................\n",
            "[CV] ................................ C=10, score=0.815, total=   0.1s\n",
            "[CV] C=10 ............................................................\n",
            "[CV] ................................ C=10, score=0.798, total=   0.1s\n",
            "[CV] C=10 ............................................................\n",
            "[CV] ................................ C=10, score=0.781, total=   0.1s\n",
            "[CV] C=10 ............................................................\n",
            "[CV] ................................ C=10, score=0.815, total=   0.1s\n",
            "[CV] C=100 ...........................................................\n",
            "[CV] ............................... C=100, score=0.788, total=   0.0s\n",
            "[CV] C=100 ...........................................................\n",
            "[CV] ............................... C=100, score=0.815, total=   0.0s\n",
            "[CV] C=100 ...........................................................\n",
            "[CV] ............................... C=100, score=0.798, total=   0.1s\n",
            "[CV] C=100 ...........................................................\n",
            "[CV] ............................... C=100, score=0.792, total=   0.0s\n",
            "[CV] C=100 ...........................................................\n",
            "[CV] ............................... C=100, score=0.815, total=   0.0s\n",
            "[CV] C=1000 ..........................................................\n",
            "[CV] .............................. C=1000, score=0.788, total=   0.1s\n",
            "[CV] C=1000 ..........................................................\n",
            "[CV] .............................. C=1000, score=0.815, total=   0.1s\n",
            "[CV] C=1000 ..........................................................\n",
            "[CV] .............................. C=1000, score=0.798, total=   0.0s\n",
            "[CV] C=1000 ..........................................................\n",
            "[CV] .............................. C=1000, score=0.792, total=   0.1s\n",
            "[CV] C=1000 ..........................................................\n",
            "[CV] .............................. C=1000, score=0.815, total=   0.0s\n"
          ],
          "name": "stdout"
        },
        {
          "output_type": "stream",
          "text": [
            "[Parallel(n_jobs=1)]: Done  25 out of  25 | elapsed:    1.3s finished\n"
          ],
          "name": "stderr"
        },
        {
          "output_type": "execute_result",
          "data": {
            "text/plain": [
              "GridSearchCV(cv=None, error_score=nan,\n",
              "             estimator=LogisticRegression(C=1.0, class_weight=None, dual=False,\n",
              "                                          fit_intercept=True,\n",
              "                                          intercept_scaling=1, l1_ratio=None,\n",
              "                                          max_iter=1000, multi_class='auto',\n",
              "                                          n_jobs=None, penalty='l2',\n",
              "                                          random_state=None, solver='lbfgs',\n",
              "                                          tol=0.0001, verbose=0,\n",
              "                                          warm_start=False),\n",
              "             iid='deprecated', n_jobs=None,\n",
              "             param_grid={'C': [0.1, 1, 10, 100, 1000]}, pre_dispatch='2*n_jobs',\n",
              "             refit=True, return_train_score=False, scoring=None, verbose=3)"
            ]
          },
          "metadata": {
            "tags": []
          },
          "execution_count": 298
        }
      ]
    },
    {
      "cell_type": "code",
      "metadata": {
        "id": "zlvPzdQf0ecx",
        "colab_type": "code",
        "colab": {
          "base_uri": "https://localhost:8080/",
          "height": 102
        },
        "outputId": "50694274-621e-4641-8bcc-027113c80756"
      },
      "source": [
        "print(grid.best_estimator_)"
      ],
      "execution_count": null,
      "outputs": [
        {
          "output_type": "stream",
          "text": [
            "LogisticRegression(C=100, class_weight=None, dual=False, fit_intercept=True,\n",
            "                   intercept_scaling=1, l1_ratio=None, max_iter=1000,\n",
            "                   multi_class='auto', n_jobs=None, penalty='l2',\n",
            "                   random_state=None, solver='lbfgs', tol=0.0001, verbose=0,\n",
            "                   warm_start=False)\n"
          ],
          "name": "stdout"
        }
      ]
    },
    {
      "cell_type": "code",
      "metadata": {
        "id": "dRLAMI9D_ECx",
        "colab_type": "code",
        "colab": {
          "base_uri": "https://localhost:8080/",
          "height": 221
        },
        "outputId": "768074dd-b0af-4c5f-c815-1df7b6d859d9"
      },
      "source": [
        "predicted = grid.predict(X_test)\n",
        "print(predicted)"
      ],
      "execution_count": null,
      "outputs": [
        {
          "output_type": "stream",
          "text": [
            "[0 0 0 0 1 0 1 0 1 0 0 0 1 0 1 1 0 0 1 1 0 0 1 1 1 0 1 0 0 0 0 0 0 1 1 0 1\n",
            " 1 0 0 0 0 0 1 1 0 0 0 1 0 0 0 1 1 0 0 0 0 0 1 0 0 0 1 1 1 1 0 1 1 1 0 1 1\n",
            " 1 1 0 1 0 1 0 0 0 0 0 0 1 1 1 0 1 0 1 0 1 0 1 0 1 0 1 0 0 0 1 0 0 0 0 0 0\n",
            " 1 1 1 1 0 0 1 1 1 1 0 1 0 0 1 0 1 0 0 0 0 1 0 0 0 0 0 1 0 0 1 0 0 0 0 0 0\n",
            " 0 0 1 0 0 0 0 0 1 1 0 1 1 0 1 0 0 1 0 0 1 1 0 0 0 0 0 1 1 0 1 1 0 0 1 0 1\n",
            " 0 1 0 0 0 0 0 0 0 0 0 1 1 0 1 1 0 0 1 0 1 1 0 1 0 0 0 0 0 0 0 1 0 1 0 1 0\n",
            " 1 0 1 1 0 1 0 0 0 1 0 0 0 0 0 0 1 1 1 1 0 0 0 0 1 0 1 1 1 0 1 0 0 0 0 0 1\n",
            " 0 0 0 1 1 0 0 0 0 1 0 0 0 1 1 0 1 0 0 0 0 1 0 1 1 1 0 0 0 0 0 0 1 0 0 0 0\n",
            " 1 0 1 0 0 0 0 0 1 1 0 0 0 0 0 0 0 1 1 1 0 0 0 0 0 0 0 0 1 0 1 0 0 0 1 1 0\n",
            " 1 0 1 0 0 0 0 0 0 0 1 0 1 0 1 0 1 1 0 0 0 1 0 1 0 0 0 0 1 1 0 1 0 0 1 1 0\n",
            " 0 1 0 0 1 1 0 0 0 0 0 0 1 1 0 1 0 0 0 0 1 1 0 0 0 1 0 1 0 0 1 0 1 1 0 0 0\n",
            " 0 1 1 1 1 1 0 1 0 0 0]\n"
          ],
          "name": "stdout"
        }
      ]
    },
    {
      "cell_type": "code",
      "metadata": {
        "id": "QNOSrNhW_GX7",
        "colab_type": "code",
        "colab": {
          "base_uri": "https://localhost:8080/",
          "height": 255
        },
        "outputId": "9b5124ce-ce1d-4b65-c1b7-f431d6f3d73e"
      },
      "source": [
        "predicted = pd.DataFrame({'PassengerId':final_df_test['PassengerId'], 'Survived': predicted})\n",
        "print(predicted)"
      ],
      "execution_count": null,
      "outputs": [
        {
          "output_type": "stream",
          "text": [
            "     PassengerId  Survived\n",
            "0            892         0\n",
            "1            893         0\n",
            "2            894         0\n",
            "3            895         0\n",
            "4            896         1\n",
            "..           ...       ...\n",
            "413         1305         0\n",
            "414         1306         1\n",
            "415         1307         0\n",
            "416         1308         0\n",
            "417         1309         0\n",
            "\n",
            "[418 rows x 2 columns]\n"
          ],
          "name": "stdout"
        }
      ]
    },
    {
      "cell_type": "code",
      "metadata": {
        "id": "-v-4LPLtWX2g",
        "colab_type": "code",
        "colab": {
          "base_uri": "https://localhost:8080/",
          "height": 255
        },
        "outputId": "bd830b2a-4ab4-4aeb-fde3-cca11ac5eb6d"
      },
      "source": [
        "# Output data file obtained from Kaggle 'gender_submission.csv' as df\n",
        "# This df obtained from kaggle is not Actual file but an example, anyway let's compare here\n",
        "print(df)"
      ],
      "execution_count": null,
      "outputs": [
        {
          "output_type": "stream",
          "text": [
            "     PassengerId  Survived\n",
            "0            892         0\n",
            "1            893         1\n",
            "2            894         0\n",
            "3            895         0\n",
            "4            896         1\n",
            "..           ...       ...\n",
            "413         1305         0\n",
            "414         1306         1\n",
            "415         1307         0\n",
            "416         1308         0\n",
            "417         1309         0\n",
            "\n",
            "[418 rows x 2 columns]\n"
          ],
          "name": "stdout"
        }
      ]
    },
    {
      "cell_type": "code",
      "metadata": {
        "id": "GHRQW6Y4l48V",
        "colab_type": "code",
        "colab": {
          "base_uri": "https://localhost:8080/",
          "height": 585
        },
        "outputId": "6a71ba1b-ad46-4db5-89fd-179f19615902"
      },
      "source": [
        "# Plotting the Actual and Predicted data\n",
        "fig, ax = plt.subplots(1,2, figsize=(12,8))\n",
        "sns.countplot(df['Survived'], ax=ax[0])\n",
        "sns.countplot(predicted['Survived'], ax=ax[1])\n",
        "ax[0].set(xlabel='Survived', title='Actual')\n",
        "ax[1].set(xlabel='Survived', title='Predicted')\n",
        "plt.tight_layout()"
      ],
      "execution_count": null,
      "outputs": [
        {
          "output_type": "display_data",
          "data": {
            "image/png": "[encoded data removed]",
            "text/plain": [
              "<Figure size 864x576 with 2 Axes>"
            ]
          },
          "metadata": {
            "tags": []
          }
        }
      ]
    },
    {
      "cell_type": "code",
      "metadata": {
        "id": "dav2xH_hUPBk",
        "colab_type": "code",
        "colab": {
          "base_uri": "https://localhost:8080/",
          "height": 170
        },
        "outputId": "070a2a94-22ec-479a-faba-372daa41b17b"
      },
      "source": [
        "# Classification Report\n",
        "print(metrics.classification_report(df['Survived'],predicted['Survived']))"
      ],
      "execution_count": null,
      "outputs": [
        {
          "output_type": "stream",
          "text": [
            "              precision    recall  f1-score   support\n",
            "\n",
            "           0       0.95      0.94      0.95       266\n",
            "           1       0.90      0.92      0.91       152\n",
            "\n",
            "    accuracy                           0.93       418\n",
            "   macro avg       0.93      0.93      0.93       418\n",
            "weighted avg       0.93      0.93      0.93       418\n",
            "\n"
          ],
          "name": "stdout"
        }
      ]
    },
    {
      "cell_type": "code",
      "metadata": {
        "id": "WXV2vFDf-QYV",
        "colab_type": "code",
        "colab": {
          "base_uri": "https://localhost:8080/",
          "height": 51
        },
        "outputId": "54e66962-a41a-4c95-887d-99cee9f51dde"
      },
      "source": [
        "# Confusion Matrix\n",
        "print(metrics.confusion_matrix(df['Survived'],predicted['Survived']))"
      ],
      "execution_count": null,
      "outputs": [
        {
          "output_type": "stream",
          "text": [
            "[[250  16]\n",
            " [ 12 140]]\n"
          ],
          "name": "stdout"
        }
      ]
    },
    {
      "cell_type": "code",
      "metadata": {
        "id": "RZb91sHfevAu",
        "colab_type": "code",
        "colab": {
          "base_uri": "https://localhost:8080/",
          "height": 34
        },
        "outputId": "8b077c7e-306d-45a8-b349-1501d376f552"
      },
      "source": [
        "# Accuracy\n",
        "print(metrics.accuracy_score(df['Survived'],predicted['Survived'])*100)"
      ],
      "execution_count": null,
      "outputs": [
        {
          "output_type": "stream",
          "text": [
            "93.30143540669856\n"
          ],
          "name": "stdout"
        }
      ]
    }
  ]
}